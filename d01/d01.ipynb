{
 "cells": [
  {
   "cell_type": "code",
   "execution_count": 2,
   "metadata": {},
   "outputs": [
    {
     "data": {
      "text/plain": [
       "[['69214', '60950'],\n",
       " ['83241', '49638'],\n",
       " ['37930', '31308'],\n",
       " ['50722', '94914'],\n",
       " ['93164', '82798'],\n",
       " ['80918', '72850'],\n",
       " ['17490', '79421'],\n",
       " ['64372', '87820'],\n",
       " ['89659', '98375'],\n",
       " ['91555', '95812']]"
      ]
     },
     "metadata": {},
     "output_type": "display_data"
    },
    {
     "name": "stdout",
     "output_type": "stream",
     "text": [
      "...\n"
     ]
    }
   ],
   "source": [
    "with open(\"d1_input.txt\", \"r\", encoding=\"utf8\") as f:\n",
    "    lines = [l.split() for l in f.readlines()]\n",
    "display(lines[:10])\n",
    "print(\"...\")\n"
   ]
  },
  {
   "cell_type": "code",
   "execution_count": 3,
   "metadata": {},
   "outputs": [
    {
     "data": {
      "text/plain": [
       "[[10103, 10133, 10172, 10223, 10244, 10465, 10499, 10554, 10581, 10594],\n",
       " [10246, 10320, 10397, 10464, 10769, 10870, 10870, 10870, 10870, 10870]]"
      ]
     },
     "metadata": {},
     "output_type": "display_data"
    }
   ],
   "source": [
    "sorts = [sorted(map(int, x)) for x in zip(*lines)]\n",
    "\n",
    "display([x[:10] for x in sorts])"
   ]
  },
  {
   "cell_type": "code",
   "execution_count": 4,
   "metadata": {},
   "outputs": [
    {
     "data": {
      "text/plain": [
       "1879048"
      ]
     },
     "metadata": {},
     "output_type": "display_data"
    }
   ],
   "source": [
    "import operator\n",
    "\n",
    "ans = sum(map(lambda tup: operator.abs(tup[0]-tup[1]), zip(*sorts)))\n",
    "\n",
    "display(ans)"
   ]
  },
  {
   "cell_type": "markdown",
   "metadata": {},
   "source": [
    "## part 2"
   ]
  },
  {
   "cell_type": "code",
   "execution_count": 5,
   "metadata": {},
   "outputs": [
    {
     "data": {
      "text/plain": [
       "[(10246, 1),\n",
       " (10320, 1),\n",
       " (10397, 1),\n",
       " (10464, 1),\n",
       " (10769, 1),\n",
       " (10870, 17),\n",
       " (10952, 1),\n",
       " (11070, 1),\n",
       " (11321, 1),\n",
       " (11340, 1)]"
      ]
     },
     "metadata": {},
     "output_type": "display_data"
    }
   ],
   "source": [
    "import collections\n",
    "\n",
    "right = collections.Counter(sorts[1])\n",
    "display([x for x in right.items()][:10])"
   ]
  },
  {
   "cell_type": "code",
   "execution_count": 6,
   "metadata": {},
   "outputs": [
    {
     "data": {
      "text/plain": [
       "21024792"
      ]
     },
     "metadata": {},
     "output_type": "display_data"
    }
   ],
   "source": [
    "pt2 = sum(right[x] * x for x in sorts[0])\n",
    "\n",
    "display(pt2)"
   ]
  }
 ],
 "metadata": {
  "kernelspec": {
   "display_name": "Python 3",
   "language": "python",
   "name": "python3"
  },
  "language_info": {
   "codemirror_mode": {
    "name": "ipython",
    "version": 3
   },
   "file_extension": ".py",
   "mimetype": "text/x-python",
   "name": "python",
   "nbconvert_exporter": "python",
   "pygments_lexer": "ipython3",
   "version": "3.12.2"
  }
 },
 "nbformat": 4,
 "nbformat_minor": 2
}
