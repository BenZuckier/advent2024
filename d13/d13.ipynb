{
 "cells": [
  {
   "cell_type": "code",
   "execution_count": 1,
   "metadata": {},
   "outputs": [
    {
     "data": {
      "text/plain": [
       "[['Button A: X+43, Y+21', 'Button B: X+16, Y+31', 'Prize: X=6735, Y=9135'],\n",
       " ['Button A: X+52, Y+55', 'Button B: X+69, Y+11', 'Prize: X=2798, Y=1100'],\n",
       " ['Button A: X+13, Y+32', 'Button B: X+68, Y+24', 'Prize: X=8243, Y=3816'],\n",
       " ['Button A: X+97, Y+34', 'Button B: X+72, Y+97', 'Prize: X=5459, Y=6291'],\n",
       " ['Button A: X+66, Y+14', 'Button B: X+81, Y+77', 'Prize: X=5910, Y=3766'],\n",
       " '...',\n",
       " ['Button A: X+30, Y+57', 'Button B: X+51, Y+30', 'Prize: X=11087, Y=7355'],\n",
       " ['Button A: X+35, Y+18', 'Button B: X+38, Y+61', 'Prize: X=17792, Y=16111'],\n",
       " ['Button A: X+30, Y+14', 'Button B: X+35, Y+85', 'Prize: X=2100, Y=3452'],\n",
       " ['Button A: X+45, Y+11', 'Button B: X+23, Y+63', 'Prize: X=17967, Y=17271'],\n",
       " ['Button A: X+12, Y+35', 'Button B: X+42, Y+26', 'Prize: X=13022, Y=9764']]"
      ]
     },
     "execution_count": 1,
     "metadata": {},
     "output_type": "execute_result"
    }
   ],
   "source": [
    "import itertools\n",
    "with open(\"d13_input.txt\", \"r\", encoding=\"utf8\") as f:\n",
    "    inp = [x.strip() for x in f.readlines()]\n",
    "    inp = [list(g) for k, g in itertools.groupby(inp, key=lambda e: e=='') if not k]\n",
    "inp[:5] + ['...'] + inp[-5:]"
   ]
  },
  {
   "cell_type": "code",
   "execution_count": 2,
   "metadata": {},
   "outputs": [
    {
     "data": {
      "text/plain": [
       "[(43, 21), (16, 31), (6735, 9135)]"
      ]
     },
     "execution_count": 2,
     "metadata": {},
     "output_type": "execute_result"
    }
   ],
   "source": [
    "import re\n",
    "arow = ['Button A: X+43, Y+21', 'Button B: X+16, Y+31', 'Prize: X=6735, Y=9135']\n",
    "# [[re.split(r\"[XY][\\+\\=]\", y)[-1] for y in x.split(', ')] for x in arow]\n",
    "def parse_row(row: list[str]) -> list:\n",
    "    return [tuple([int(re.split(r\"[XY][\\+\\=]\", y)[-1]) for y in x.split(', ')]) for x in row]\n",
    "parse_row(arow)"
   ]
  },
  {
   "cell_type": "code",
   "execution_count": 3,
   "metadata": {},
   "outputs": [],
   "source": [
    "# import functools\n",
    "\n",
    "# @functools.cache\n",
    "# def egcd(a, b): \n",
    "#     if a == 0: \n",
    "#         return b, 0, 1\n",
    "    \n",
    "#     gcd, x1, y1 = egcd(b%a, a) \n",
    "    \n",
    "#     x = y1 - (b//a) * x1\n",
    "#     y = x1\n",
    "\n",
    "#     return gcd, x, y"
   ]
  },
  {
   "cell_type": "code",
   "execution_count": 4,
   "metadata": {},
   "outputs": [],
   "source": [
    "# # a = <x1, y1>\n",
    "# # b = <x2, y2>\n",
    "# # z = <x2, y3>\n",
    "# #\n",
    "# # find some n and m s.t.\n",
    "# # an + bm = z \n",
    "# # \n",
    "# # or\n",
    "# # \n",
    "# # x3 = nx1 + mx2\n",
    "# # y3 = ny1 + my2\n",
    "# # \n",
    "# # 1 = x * 3 + y * 4\n",
    "# # 2 = x * 7 + y * 2\n",
    "# def find_nm(a: tuple, b: tuple, z: tuple) -> int:\n",
    "#     xa, ya = a\n",
    "#     xb, yb = b\n",
    "#     xz, yz = z\n",
    "#     print(xa, ya, xb, yb, xz, yz)\n",
    "\n",
    "#     g1, n1, m1 = egcd(xa, xb)\n",
    "#     if xz % g1 != 0:\n",
    "#         return 0\n",
    "#     print(g1, n1, m1)\n",
    "#     k1 = (xz // g1)\n",
    "#     n1, m1 = n1 * k1, m1 * k1\n",
    "#     print(n1, m1)\n",
    "#     print(k1)\n",
    "\n",
    "#     g2, n2, m2 = egcd(ya, yb)\n",
    "#     if yz % g2 != 0:\n",
    "#         return 0\n",
    "#     n2, m2 = n2 * (yz // g2), m2 * (yz // g2)\n",
    "\n",
    "#     return 0 if ((n1 != n2) or (m1 != m2)) else 3*n1 + m1"
   ]
  },
  {
   "cell_type": "code",
   "execution_count": 5,
   "metadata": {},
   "outputs": [
    {
     "name": "stdout",
     "output_type": "stream",
     "text": [
      "[80. 40.]\n"
     ]
    }
   ],
   "source": [
    "import numpy as np\n",
    "\n",
    "x = np.linalg.solve(np.array([[94, 22], [34, 67]]), np.array([8400, 5400]))\n",
    "print(x)"
   ]
  },
  {
   "cell_type": "code",
   "execution_count": 19,
   "metadata": {},
   "outputs": [],
   "source": [
    "def find_score(a: tuple, b: tuple, z: tuple, add=0) -> int:\n",
    "    # print(a, b, z)\n",
    "    xa, ya = a\n",
    "    xb, yb = b\n",
    "    za, zb = z[0] + add, z[1] + add\n",
    "\n",
    "    na, nb = [round(x) for x in np.linalg.solve(np.array([[xa, xb], [ya, yb]]), np.array([za, zb]))]\n",
    "    if not ((na * xa + nb * xb, na * ya + nb * yb) == (za, zb)):\n",
    "        return 0\n",
    "    return 3*na + nb\n"
   ]
  },
  {
   "cell_type": "code",
   "execution_count": 20,
   "metadata": {},
   "outputs": [],
   "source": [
    "# find_nm((94,34), (22, 67), (8400, 5400))\n"
   ]
  },
  {
   "cell_type": "code",
   "execution_count": 21,
   "metadata": {},
   "outputs": [
    {
     "name": "stdout",
     "output_type": "stream",
     "text": [
      "29436\n",
      "103729094227877\n"
     ]
    }
   ],
   "source": [
    "# list(map(parse_row, inp))\n",
    "print(sum([find_score(*x) for x in map(parse_row, inp)]))\n",
    "print(sum([find_score(*x, add=10000000000000) for x in map(parse_row, inp)])) # p2"
   ]
  },
  {
   "cell_type": "code",
   "execution_count": null,
   "metadata": {},
   "outputs": [],
   "source": []
  }
 ],
 "metadata": {
  "kernelspec": {
   "display_name": "Python 3",
   "language": "python",
   "name": "python3"
  },
  "language_info": {
   "codemirror_mode": {
    "name": "ipython",
    "version": 3
   },
   "file_extension": ".py",
   "mimetype": "text/x-python",
   "name": "python",
   "nbconvert_exporter": "python",
   "pygments_lexer": "ipython3",
   "version": "3.12.2"
  }
 },
 "nbformat": 4,
 "nbformat_minor": 2
}
