{
 "cells": [
  {
   "cell_type": "code",
   "execution_count": 7,
   "metadata": {},
   "outputs": [
    {
     "name": "stdout",
     "output_type": "stream",
     "text": [
      "[2, 1, 2, 5, 2, 1, 9, 8, 2, 3, 4, 5, 4, 5, 5, 4, 3, 2, 1, 9, 8, 8, 9, 8, 7, 3, 2, 3, 4, 3, 2, 0, 1, 0, 0, 1, 4, 5, 4, 3, 2, 1, 0, 7, 6, 7, 6, 7, 8, 9, 9, 8, 7, 2]\n",
      "[1, 0, 1, 4, 3, 0, 6, 7, 1, 1, 5, 6, 7, 6, 6, 7, 1, 8, 0, 8, 9, 0, 8, 7, 0, 0, 1, 4, 3, 2, 1, 0, 2, 1, 2, 2, 3, 6, 7, 4, 1, 0, 7, 8, 9, 8, 9, 8, 7, 2, 1, 7, 0, 1]\n",
      "[2, 3, 4, 5, 4, 9, 5, 6, 0, 0, 4, 9, 8, 5, 9, 8, 0, 9, 6, 7, 0, 1, 0, 6, 1, 2, 6, 5, 4, 9, 8, 9, 3, 4, 3, 2, 1, 9, 8, 5, 2, 3, 6, 5, 0, 1, 2, 7, 6, 3, 0, 6, 5, 2]\n",
      "[3, 4, 5, 6, 7, 8, 4, 3, 2, 1, 3, 2, 3, 4, 3, 2, 1, 8, 5, 4, 3, 2, 1, 5, 4, 3, 7, 4, 5, 6, 7, 8, 4, 5, 4, 3, 0, 0, 7, 6, 9, 4, 5, 4, 0, 1, 3, 4, 5, 4, 4, 5, 4, 3]\n",
      "[4, 3, 4, 9, 8, 9, 0, 1, 0, 1, 0, 1, 0, 3, 4, 5, 6, 7, 8, 9, 4, 3, 2, 6, 4, 5, 8, 9, 4, 1, 0, 8, 9, 6, 5, 6, 9, 1, 2, 7, 8, 4, 3, 4, 3, 2, 9, 6, 5, 3, 1, 0, 1, 4]\n"
     ]
    }
   ],
   "source": [
    "with open(\"d10_input.txt\", \"r\", encoding=\"utf8\") as f:\n",
    "    lines = [list(map(int, x.strip())) for x in f.readlines()]\n",
    "for i in range(5):\n",
    "    print(lines[i])"
   ]
  },
  {
   "cell_type": "code",
   "execution_count": 8,
   "metadata": {},
   "outputs": [
    {
     "data": {
      "text/plain": [
       "[(0, 31),\n",
       " (0, 33),\n",
       " (0, 34),\n",
       " (0, 42),\n",
       " (1, 1),\n",
       " (1, 5),\n",
       " (1, 18),\n",
       " (1, 21),\n",
       " (1, 24),\n",
       " (1, 25)]"
      ]
     },
     "metadata": {},
     "output_type": "display_data"
    }
   ],
   "source": [
    "import itertools\n",
    "starts = list(itertools.chain.from_iterable([[(row, i) for i, e in enumerate(row_text) if e == 0] for row, row_text in enumerate(lines)]))\n",
    "\n",
    "display(starts[:10])"
   ]
  },
  {
   "cell_type": "markdown",
   "metadata": {},
   "source": [
    "gonna do some bfs. this is similar to how i (over)did day 4\n"
   ]
  },
  {
   "cell_type": "code",
   "execution_count": 9,
   "metadata": {},
   "outputs": [],
   "source": [
    "nrows, ncols = len(lines), len(lines[0])"
   ]
  },
  {
   "cell_type": "code",
   "execution_count": 12,
   "metadata": {},
   "outputs": [],
   "source": [
    "# only left right down up steps\n",
    "deltas = [(-1, 0), (1, 0), (0, -1), (0, 1)]\n",
    "get_neighbors = lambda r, c: list(filter(lambda x: x[0] >= 0 and x[1] >= 0 and x[0] < nrows and x[1] < ncols, \n",
    "                                    [(r+dr, c+dc) for dr, dc in deltas]))"
   ]
  },
  {
   "cell_type": "code",
   "execution_count": 56,
   "metadata": {},
   "outputs": [],
   "source": [
    "import collections\n",
    "start_to_finish = collections.defaultdict(int)\n",
    "seen = collections.defaultdict(set)\n",
    "q = collections.deque(list(zip(starts, starts)))\n",
    "while q:\n",
    "    started, upto = q.popleft()\n",
    "    if upto in seen[started]:\n",
    "        continue\n",
    "    seen[started].add(upto)\n",
    "    if lines[upto[0]][upto[1]] == 9:\n",
    "        start_to_finish[started] += 1\n",
    "        continue\n",
    "    for neighbor in get_neighbors(*upto):\n",
    "        if lines[upto[0]][upto[1]] + 1 == lines[neighbor[0]][neighbor[1]]:\n",
    "            q.append((started, neighbor))\n"
   ]
  },
  {
   "cell_type": "code",
   "execution_count": 60,
   "metadata": {},
   "outputs": [
    {
     "data": {
      "text/plain": [
       "624"
      ]
     },
     "execution_count": 60,
     "metadata": {},
     "output_type": "execute_result"
    }
   ],
   "source": [
    "sum(start_to_finish.values())"
   ]
  },
  {
   "cell_type": "markdown",
   "metadata": {},
   "source": [
    "# Part 2"
   ]
  },
  {
   "cell_type": "code",
   "execution_count": 58,
   "metadata": {},
   "outputs": [],
   "source": [
    "import collections\n",
    "start_to_finish2 = collections.defaultdict(int)\n",
    "# seen = collections.defaultdict(set)\n",
    "q2 = collections.deque(list(zip(starts, starts)))\n",
    "while q2:\n",
    "    started, upto = q2.popleft()\n",
    "    # if upto in seen[started]:\n",
    "    #     continue\n",
    "    # seen[started].add(upto)\n",
    "    if lines[upto[0]][upto[1]] == 9:\n",
    "        start_to_finish2[started] += 1\n",
    "        continue\n",
    "    for neighbor in get_neighbors(*upto):\n",
    "        if lines[upto[0]][upto[1]] + 1 == lines[neighbor[0]][neighbor[1]]:\n",
    "            q2.append((started, neighbor))\n"
   ]
  },
  {
   "cell_type": "code",
   "execution_count": 59,
   "metadata": {},
   "outputs": [
    {
     "data": {
      "text/plain": [
       "1483"
      ]
     },
     "execution_count": 59,
     "metadata": {},
     "output_type": "execute_result"
    }
   ],
   "source": [
    "sum(start_to_finish2.values())"
   ]
  }
 ],
 "metadata": {
  "kernelspec": {
   "display_name": "Python 3",
   "language": "python",
   "name": "python3"
  },
  "language_info": {
   "codemirror_mode": {
    "name": "ipython",
    "version": 3
   },
   "file_extension": ".py",
   "mimetype": "text/x-python",
   "name": "python",
   "nbconvert_exporter": "python",
   "pygments_lexer": "ipython3",
   "version": "3.12.2"
  }
 },
 "nbformat": 4,
 "nbformat_minor": 2
}
