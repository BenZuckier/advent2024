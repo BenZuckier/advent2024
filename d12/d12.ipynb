{
 "cells": [
  {
   "cell_type": "code",
   "execution_count": 1,
   "metadata": {},
   "outputs": [
    {
     "data": {
      "text/plain": [
       "['QQQQQQCCCCCCCCCCCCXXXXXXXXXXXXXXUUUUUUJEEJJJJJQQQQIIISSVVVVVVVVVMMMMMMMMMMMMMMMMMMVVVVVWWWWFFFFFFFFFFFFAFZZZZZZZZZZZMMMMMMMMMMMMMMMMMMVMMQQQ',\n",
       " 'QQQQQCCCCCCCCCCCCCCCCXXXXXXXXXXUUUUUUUJJJJJJJJIIIQIIIIVVVVVVVVVVMMMMMMFMMMMMMMMMMMMVVVWWWWWFFFFFFFFFFFFFFZZZZZZZZLLZMMMMMMMMMMMMMMMMMMMMQQQQ',\n",
       " 'QQQQQQCCCCCCCCCCCCCCCCCCCXXXXXXUUUUUUJJJJJJJJJIIIIIIIIIVVVVVVVVMMMFFFFFMMMMMMMMMMMWWWWWWWWFFFFFFFFFFFFFFFZZZZZZZZLLZMMMMMMMMMMMMMMMHMQQMQQQQ',\n",
       " 'QQQQQCCCCCCCCCCCCCCCCCCCXXXXXXXUUUUUUUJJJJJJJJIIIIIIIIIIVVVVVVVVMMMMFFFMMMMMMMMMMMWWFFWWWWFFFFFFFFFFFFFFFZZZZZZZZMMMMMMMMMMMMMMMHHMHQQQQQQQQ',\n",
       " 'QQQQQQCCCCCCCCCCCCCCCCCXXZXXXXXXUUUUUUJJJJJJJYIIIIIIIIIIVVVVVVVVVVVFFFBBBMMMMMMMMFFWFFWWWWFFFFFFFFFFFFZZZZZZZZZZZLLMMMMMMMMMHMMHHHHHQQQQQQQQ',\n",
       " 'QQQQQQCCCCCCCCCCCCCCCZZZZZXXXXXXXUUUUUJJJOJJJYIIIIIIIIIVVVVVVVVVVVBFFFBBBBMMMMMMFFFFFFWZWWWWFFFFFFFFFFZZZZZZZZZZLLMMMMMMMMHHHHHRHHHHHHQQQQQQ',\n",
       " 'QQQQQQCCCCCCCCCCCCCCCZZZZTTXXXUUUUUUUUUUUOJJJJIIIIIIIIIIVVVVVVVVVVBBFBBBBBMMMMMMFFFFZDZZZWWWFFFFFFFFFFZZZZZZZZZZLLMMMMMMMMMHHHHHHHHHHHQQQQQQ',\n",
       " 'QQQQQQCCCCCCCCCCCCCCZZZZPTTTXXXXXUXXUUUUUOOJUUUUUIIIIIIIVVVVVVVVVBBBBBBBBBBBMMMFFFFFZZZZWWWAAAFFFFFFFFZZZZZZZZZZZLMMMMMMMMMMMHHHHHHHHHQQQQQQ',\n",
       " 'QIIIIIICCIWCCCCCCCCZZTTTTTTTTXXXXXXXXUUUUOXJUXUUUIIIQQQQQQQVVVVVVBBBBBBBBBBBMFFFFFFFZZZZAAAAAFFFFFFFDZZZZZZZZLLLZLLLMMMMMMMMMHHHHHHJJQQQQQQQ',\n",
       " 'IIIIIIICCIIMMQCCCCZZTTTTTTTTXXXXRRXXXUUUGXXXXXUUUIIIQQQQQQQVVVVVVBBBBBBBABMBMFFEFFFFFZZZZAAAAFFFFFFFDAZZZAAAALLLLLLMMMMMMMMMHHHHHHHJJQQQQQQQ']"
      ]
     },
     "execution_count": 1,
     "metadata": {},
     "output_type": "execute_result"
    }
   ],
   "source": [
    "with open(\"d12_input.txt\", \"r\", encoding=\"utf8\") as f:\n",
    "    inp = [x.strip() for x in f.readlines()]\n",
    "inp[:10]"
   ]
  },
  {
   "cell_type": "code",
   "execution_count": 29,
   "metadata": {},
   "outputs": [],
   "source": [
    "inp = [\n",
    "    \"RRRRIICCFF\",\n",
    "    \"RRRRIICCCF\",\n",
    "    \"VVRRRCCFFF\",\n",
    "    \"VVRCCCJFFF\",\n",
    "    \"VVVVCJJCFE\",\n",
    "    \"VVIVCCJJEE\",\n",
    "    \"VVIIICJJEE\",\n",
    "    \"MIIIIIJJEE\",\n",
    "    \"MIIISIJEEE\",\n",
    "    \"MMMISSJEEE\",\n",
    "]"
   ]
  },
  {
   "cell_type": "code",
   "execution_count": 30,
   "metadata": {},
   "outputs": [],
   "source": [
    "nrows, ncols = len(inp), len(inp[0])"
   ]
  },
  {
   "cell_type": "code",
   "execution_count": 31,
   "metadata": {},
   "outputs": [],
   "source": [
    "# only left right down up steps\n",
    "deltas = [(-1, 0), (1, 0), (0, -1), (0, 1)]\n",
    "get_neighbors = lambda r, c: list(filter(lambda x: x[0] >= 0 and x[1] >= 0 and x[0] < nrows and x[1] < ncols, \n",
    "                                    [(r+dr, c+dc) for dr, dc in deltas]))"
   ]
  },
  {
   "cell_type": "code",
   "execution_count": 32,
   "metadata": {},
   "outputs": [],
   "source": [
    "get = lambda r, c: inp[r][c]"
   ]
  },
  {
   "cell_type": "code",
   "execution_count": 38,
   "metadata": {},
   "outputs": [
    {
     "name": "stdout",
     "output_type": "stream",
     "text": [
      "start=(0, 0) curr=(0, 0) letter='R' get_neighbors(*curr)=[(1, 0), (0, 1)]\n",
      "start=(0, 0) curr=(1, 0) letter='R' get_neighbors(*curr)=[(0, 0), (2, 0), (1, 1)]\n",
      "start=(0, 0) curr=(0, 1) letter='R' get_neighbors(*curr)=[(1, 1), (0, 0), (0, 2)]\n",
      "start=(2, 0) curr=(2, 0) letter='V' get_neighbors(*curr)=[(1, 0), (3, 0), (2, 1)]\n",
      "start=(0, 0) curr=(1, 1) letter='R' get_neighbors(*curr)=[(0, 1), (2, 1), (1, 0), (1, 2)]\n",
      "start=(0, 0) curr=(0, 2) letter='R' get_neighbors(*curr)=[(1, 2), (0, 1), (0, 3)]\n",
      "start=(2, 0) curr=(3, 0) letter='V' get_neighbors(*curr)=[(2, 0), (4, 0), (3, 1)]\n",
      "start=(2, 0) curr=(2, 1) letter='V' get_neighbors(*curr)=[(1, 1), (3, 1), (2, 0), (2, 2)]\n",
      "start=(0, 0) curr=(1, 2) letter='R' get_neighbors(*curr)=[(0, 2), (2, 2), (1, 1), (1, 3)]\n",
      "start=(0, 0) curr=(0, 3) letter='R' get_neighbors(*curr)=[(1, 3), (0, 2), (0, 4)]\n",
      "start=(2, 0) curr=(4, 0) letter='V' get_neighbors(*curr)=[(3, 0), (5, 0), (4, 1)]\n",
      "start=(2, 0) curr=(3, 1) letter='V' get_neighbors(*curr)=[(2, 1), (4, 1), (3, 0), (3, 2)]\n",
      "start=(2, 2) curr=(2, 2) letter='R' get_neighbors(*curr)=[(1, 2), (3, 2), (2, 1), (2, 3)]\n",
      "start=(0, 0) curr=(1, 3) letter='R' get_neighbors(*curr)=[(0, 3), (2, 3), (1, 2), (1, 4)]\n",
      "start=(0, 4) curr=(0, 4) letter='I' get_neighbors(*curr)=[(1, 4), (0, 3), (0, 5)]\n",
      "start=(2, 0) curr=(5, 0) letter='V' get_neighbors(*curr)=[(4, 0), (6, 0), (5, 1)]\n",
      "start=(2, 0) curr=(4, 1) letter='V' get_neighbors(*curr)=[(3, 1), (5, 1), (4, 0), (4, 2)]\n",
      "start=(3, 2) curr=(3, 2) letter='R' get_neighbors(*curr)=[(2, 2), (4, 2), (3, 1), (3, 3)]\n",
      "start=(2, 2) curr=(2, 3) letter='R' get_neighbors(*curr)=[(1, 3), (3, 3), (2, 2), (2, 4)]\n",
      "start=(1, 4) curr=(1, 4) letter='I' get_neighbors(*curr)=[(0, 4), (2, 4), (1, 3), (1, 5)]\n",
      "start=(0, 4) curr=(0, 5) letter='I' get_neighbors(*curr)=[(1, 5), (0, 4), (0, 6)]\n",
      "start=(2, 0) curr=(6, 0) letter='V' get_neighbors(*curr)=[(5, 0), (7, 0), (6, 1)]\n",
      "start=(2, 0) curr=(5, 1) letter='V' get_neighbors(*curr)=[(4, 1), (6, 1), (5, 0), (5, 2)]\n",
      "start=(2, 0) curr=(4, 2) letter='V' get_neighbors(*curr)=[(3, 2), (5, 2), (4, 1), (4, 3)]\n",
      "start=(3, 3) curr=(3, 3) letter='C' get_neighbors(*curr)=[(2, 3), (4, 3), (3, 2), (3, 4)]\n",
      "start=(2, 2) curr=(2, 4) letter='R' get_neighbors(*curr)=[(1, 4), (3, 4), (2, 3), (2, 5)]\n",
      "start=(1, 4) curr=(1, 5) letter='I' get_neighbors(*curr)=[(0, 5), (2, 5), (1, 4), (1, 6)]\n",
      "start=(0, 6) curr=(0, 6) letter='C' get_neighbors(*curr)=[(1, 6), (0, 5), (0, 7)]\n",
      "start=(7, 0) curr=(7, 0) letter='M' get_neighbors(*curr)=[(6, 0), (8, 0), (7, 1)]\n",
      "start=(2, 0) curr=(6, 1) letter='V' get_neighbors(*curr)=[(5, 1), (7, 1), (6, 0), (6, 2)]\n",
      "start=(5, 2) curr=(5, 2) letter='I' get_neighbors(*curr)=[(4, 2), (6, 2), (5, 1), (5, 3)]\n",
      "start=(2, 0) curr=(4, 3) letter='V' get_neighbors(*curr)=[(3, 3), (5, 3), (4, 2), (4, 4)]\n",
      "start=(3, 3) curr=(3, 4) letter='C' get_neighbors(*curr)=[(2, 4), (4, 4), (3, 3), (3, 5)]\n",
      "start=(2, 5) curr=(2, 5) letter='C' get_neighbors(*curr)=[(1, 5), (3, 5), (2, 4), (2, 6)]\n",
      "start=(1, 6) curr=(1, 6) letter='C' get_neighbors(*curr)=[(0, 6), (2, 6), (1, 5), (1, 7)]\n",
      "start=(0, 6) curr=(0, 7) letter='C' get_neighbors(*curr)=[(1, 7), (0, 6), (0, 8)]\n",
      "start=(7, 0) curr=(8, 0) letter='M' get_neighbors(*curr)=[(7, 0), (9, 0), (8, 1)]\n",
      "start=(7, 1) curr=(7, 1) letter='I' get_neighbors(*curr)=[(6, 1), (8, 1), (7, 0), (7, 2)]\n",
      "start=(6, 2) curr=(6, 2) letter='I' get_neighbors(*curr)=[(5, 2), (7, 2), (6, 1), (6, 3)]\n",
      "start=(5, 3) curr=(5, 3) letter='V' get_neighbors(*curr)=[(4, 3), (6, 3), (5, 2), (5, 4)]\n",
      "start=(4, 4) curr=(4, 4) letter='C' get_neighbors(*curr)=[(3, 4), (5, 4), (4, 3), (4, 5)]\n",
      "start=(3, 3) curr=(3, 5) letter='C' get_neighbors(*curr)=[(2, 5), (4, 5), (3, 4), (3, 6)]\n",
      "start=(2, 5) curr=(2, 6) letter='C' get_neighbors(*curr)=[(1, 6), (3, 6), (2, 5), (2, 7)]\n",
      "start=(1, 6) curr=(1, 7) letter='C' get_neighbors(*curr)=[(0, 7), (2, 7), (1, 6), (1, 8)]\n",
      "start=(0, 8) curr=(0, 8) letter='F' get_neighbors(*curr)=[(1, 8), (0, 7), (0, 9)]\n",
      "start=(7, 0) curr=(9, 0) letter='M' get_neighbors(*curr)=[(8, 0), (9, 1)]\n",
      "start=(8, 1) curr=(8, 1) letter='I' get_neighbors(*curr)=[(7, 1), (9, 1), (8, 0), (8, 2)]\n",
      "start=(7, 1) curr=(7, 2) letter='I' get_neighbors(*curr)=[(6, 2), (8, 2), (7, 1), (7, 3)]\n",
      "start=(6, 2) curr=(6, 3) letter='I' get_neighbors(*curr)=[(5, 3), (7, 3), (6, 2), (6, 4)]\n",
      "start=(5, 4) curr=(5, 4) letter='C' get_neighbors(*curr)=[(4, 4), (6, 4), (5, 3), (5, 5)]\n",
      "start=(4, 5) curr=(4, 5) letter='J' get_neighbors(*curr)=[(3, 5), (5, 5), (4, 4), (4, 6)]\n",
      "start=(3, 6) curr=(3, 6) letter='J' get_neighbors(*curr)=[(2, 6), (4, 6), (3, 5), (3, 7)]\n",
      "start=(2, 7) curr=(2, 7) letter='F' get_neighbors(*curr)=[(1, 7), (3, 7), (2, 6), (2, 8)]\n",
      "start=(1, 6) curr=(1, 8) letter='C' get_neighbors(*curr)=[(0, 8), (2, 8), (1, 7), (1, 9)]\n",
      "start=(0, 8) curr=(0, 9) letter='F' get_neighbors(*curr)=[(1, 9), (0, 8)]\n",
      "start=(7, 0) curr=(9, 1) letter='M' get_neighbors(*curr)=[(8, 1), (9, 0), (9, 2)]\n",
      "start=(8, 1) curr=(8, 2) letter='I' get_neighbors(*curr)=[(7, 2), (9, 2), (8, 1), (8, 3)]\n",
      "start=(7, 1) curr=(7, 3) letter='I' get_neighbors(*curr)=[(6, 3), (8, 3), (7, 2), (7, 4)]\n",
      "start=(6, 2) curr=(6, 4) letter='I' get_neighbors(*curr)=[(5, 4), (7, 4), (6, 3), (6, 5)]\n",
      "start=(5, 4) curr=(5, 5) letter='C' get_neighbors(*curr)=[(4, 5), (6, 5), (5, 4), (5, 6)]\n",
      "start=(4, 5) curr=(4, 6) letter='J' get_neighbors(*curr)=[(3, 6), (5, 6), (4, 5), (4, 7)]\n",
      "start=(3, 7) curr=(3, 7) letter='F' get_neighbors(*curr)=[(2, 7), (4, 7), (3, 6), (3, 8)]\n",
      "start=(2, 7) curr=(2, 8) letter='F' get_neighbors(*curr)=[(1, 8), (3, 8), (2, 7), (2, 9)]\n",
      "start=(1, 9) curr=(1, 9) letter='F' get_neighbors(*curr)=[(0, 9), (2, 9), (1, 8)]\n",
      "start=(7, 0) curr=(9, 2) letter='M' get_neighbors(*curr)=[(8, 2), (9, 1), (9, 3)]\n",
      "start=(8, 1) curr=(8, 3) letter='I' get_neighbors(*curr)=[(7, 3), (9, 3), (8, 2), (8, 4)]\n",
      "start=(7, 1) curr=(7, 4) letter='I' get_neighbors(*curr)=[(6, 4), (8, 4), (7, 3), (7, 5)]\n",
      "start=(6, 5) curr=(6, 5) letter='C' get_neighbors(*curr)=[(5, 5), (7, 5), (6, 4), (6, 6)]\n",
      "start=(5, 6) curr=(5, 6) letter='J' get_neighbors(*curr)=[(4, 6), (6, 6), (5, 5), (5, 7)]\n",
      "start=(4, 7) curr=(4, 7) letter='C' get_neighbors(*curr)=[(3, 7), (5, 7), (4, 6), (4, 8)]\n",
      "start=(3, 7) curr=(3, 8) letter='F' get_neighbors(*curr)=[(2, 8), (4, 8), (3, 7), (3, 9)]\n",
      "start=(2, 7) curr=(2, 9) letter='F' get_neighbors(*curr)=[(1, 9), (3, 9), (2, 8)]\n",
      "start=(9, 3) curr=(9, 3) letter='I' get_neighbors(*curr)=[(8, 3), (9, 2), (9, 4)]\n",
      "start=(8, 4) curr=(8, 4) letter='S' get_neighbors(*curr)=[(7, 4), (9, 4), (8, 3), (8, 5)]\n",
      "start=(7, 1) curr=(7, 5) letter='I' get_neighbors(*curr)=[(6, 5), (8, 5), (7, 4), (7, 6)]\n",
      "start=(6, 6) curr=(6, 6) letter='J' get_neighbors(*curr)=[(5, 6), (7, 6), (6, 5), (6, 7)]\n",
      "start=(5, 6) curr=(5, 7) letter='J' get_neighbors(*curr)=[(4, 7), (6, 7), (5, 6), (5, 8)]\n",
      "start=(4, 8) curr=(4, 8) letter='F' get_neighbors(*curr)=[(3, 8), (5, 8), (4, 7), (4, 9)]\n",
      "start=(3, 7) curr=(3, 9) letter='F' get_neighbors(*curr)=[(2, 9), (4, 9), (3, 8)]\n",
      "start=(9, 4) curr=(9, 4) letter='S' get_neighbors(*curr)=[(8, 4), (9, 3), (9, 5)]\n",
      "start=(8, 5) curr=(8, 5) letter='I' get_neighbors(*curr)=[(7, 5), (9, 5), (8, 4), (8, 6)]\n",
      "start=(7, 6) curr=(7, 6) letter='J' get_neighbors(*curr)=[(6, 6), (8, 6), (7, 5), (7, 7)]\n",
      "start=(6, 6) curr=(6, 7) letter='J' get_neighbors(*curr)=[(5, 7), (7, 7), (6, 6), (6, 8)]\n",
      "start=(5, 8) curr=(5, 8) letter='E' get_neighbors(*curr)=[(4, 8), (6, 8), (5, 7), (5, 9)]\n",
      "start=(4, 9) curr=(4, 9) letter='E' get_neighbors(*curr)=[(3, 9), (5, 9), (4, 8)]\n",
      "start=(9, 4) curr=(9, 5) letter='S' get_neighbors(*curr)=[(8, 5), (9, 4), (9, 6)]\n",
      "start=(8, 6) curr=(8, 6) letter='J' get_neighbors(*curr)=[(7, 6), (9, 6), (8, 5), (8, 7)]\n",
      "start=(7, 6) curr=(7, 7) letter='J' get_neighbors(*curr)=[(6, 7), (8, 7), (7, 6), (7, 8)]\n",
      "start=(6, 8) curr=(6, 8) letter='E' get_neighbors(*curr)=[(5, 8), (7, 8), (6, 7), (6, 9)]\n",
      "start=(5, 8) curr=(5, 9) letter='E' get_neighbors(*curr)=[(4, 9), (6, 9), (5, 8)]\n",
      "start=(9, 6) curr=(9, 6) letter='J' get_neighbors(*curr)=[(8, 6), (9, 5), (9, 7)]\n",
      "start=(8, 7) curr=(8, 7) letter='E' get_neighbors(*curr)=[(7, 7), (9, 7), (8, 6), (8, 8)]\n",
      "start=(7, 8) curr=(7, 8) letter='E' get_neighbors(*curr)=[(6, 8), (8, 8), (7, 7), (7, 9)]\n",
      "start=(6, 8) curr=(6, 9) letter='E' get_neighbors(*curr)=[(5, 9), (7, 9), (6, 8)]\n",
      "start=(9, 7) curr=(9, 7) letter='E' get_neighbors(*curr)=[(8, 7), (9, 6), (9, 8)]\n",
      "start=(8, 7) curr=(8, 8) letter='E' get_neighbors(*curr)=[(7, 8), (9, 8), (8, 7), (8, 9)]\n",
      "start=(7, 8) curr=(7, 9) letter='E' get_neighbors(*curr)=[(6, 9), (8, 9), (7, 8)]\n",
      "start=(9, 7) curr=(9, 8) letter='E' get_neighbors(*curr)=[(8, 8), (9, 7), (9, 9)]\n",
      "start=(8, 7) curr=(8, 9) letter='E' get_neighbors(*curr)=[(7, 9), (9, 9), (8, 8)]\n",
      "start=(9, 7) curr=(9, 9) letter='E' get_neighbors(*curr)=[(8, 9), (9, 8)]\n"
     ]
    }
   ],
   "source": [
    "import collections\n",
    "from typing import Tuple\n",
    "def get_region(start) -> Tuple[list, int]:\n",
    "    seen = set()\n",
    "    regions = collections.defaultdict(lambda: collections.defaultdict(list)) # dict of dicts - letter to starting pos to list of coords\n",
    "    regions_count = collections.defaultdict(lambda: collections.defaultdict(int))\n",
    "    q = collections.deque([((0,0), (0,0))]) # deque of start and current pos\n",
    "\n",
    "    while q:\n",
    "        start, curr = q.popleft()\n",
    "        if curr in seen:\n",
    "            continue\n",
    "        seen.add(curr)\n",
    "        letter = get(*curr)\n",
    "        regions[letter][start].append(curr)\n",
    "        surr = 0\n",
    "        print(f\"{start=} {curr=} {letter=} {get_neighbors(*curr)=}\")\n",
    "        for n in get_neighbors(*curr):\n",
    "            if get(*n) == letter:\n",
    "                q.append((start, n))\n",
    "            else:\n",
    "                surr += 1\n",
    "                q.append((n, n))\n",
    "        regions_count[letter][start] += 4 - surr\n"
   ]
  },
  {
   "cell_type": "code",
   "execution_count": 34,
   "metadata": {},
   "outputs": [
    {
     "data": {
      "text/plain": [
       "1197"
      ]
     },
     "execution_count": 34,
     "metadata": {},
     "output_type": "execute_result"
    }
   ],
   "source": [
    "total = 0\n",
    "for letter in regions.keys():\n",
    "    for start in regions[letter].keys():\n",
    "        total += len(regions[letter][start]) * regions_count[letter][start]\n",
    "total\n"
   ]
  },
  {
   "cell_type": "code",
   "execution_count": 35,
   "metadata": {},
   "outputs": [
    {
     "data": {
      "text/plain": [
       "defaultdict(<function __main__.<lambda>()>,\n",
       "            {'R': defaultdict(list,\n",
       "                         {(0, 0): [(0, 0),\n",
       "                           (1, 0),\n",
       "                           (0, 1),\n",
       "                           (1, 1),\n",
       "                           (0, 2),\n",
       "                           (1, 2),\n",
       "                           (0, 3),\n",
       "                           (1, 3)],\n",
       "                          (2, 2): [(2, 2), (2, 3), (2, 4)],\n",
       "                          (3, 2): [(3, 2)]}),\n",
       "             'V': defaultdict(list,\n",
       "                         {(2, 0): [(2, 0),\n",
       "                           (3, 0),\n",
       "                           (2, 1),\n",
       "                           (4, 0),\n",
       "                           (3, 1),\n",
       "                           (5, 0),\n",
       "                           (4, 1),\n",
       "                           (6, 0),\n",
       "                           (5, 1),\n",
       "                           (4, 2),\n",
       "                           (6, 1),\n",
       "                           (4, 3)],\n",
       "                          (5, 3): [(5, 3)]}),\n",
       "             'I': defaultdict(list,\n",
       "                         {(0, 4): [(0, 4), (0, 5)],\n",
       "                          (1, 4): [(1, 4), (1, 5)],\n",
       "                          (5, 2): [(5, 2)],\n",
       "                          (7, 1): [(7, 1), (7, 2), (7, 3), (7, 4), (7, 5)],\n",
       "                          (6, 2): [(6, 2), (6, 3), (6, 4)],\n",
       "                          (8, 1): [(8, 1), (8, 2), (8, 3)],\n",
       "                          (9, 3): [(9, 3)],\n",
       "                          (8, 5): [(8, 5)]}),\n",
       "             'C': defaultdict(list,\n",
       "                         {(3, 3): [(3, 3), (3, 4), (3, 5)],\n",
       "                          (0, 6): [(0, 6), (0, 7)],\n",
       "                          (2, 5): [(2, 5), (2, 6)],\n",
       "                          (1, 6): [(1, 6), (1, 7), (1, 8)],\n",
       "                          (4, 4): [(4, 4)],\n",
       "                          (5, 4): [(5, 4), (5, 5)],\n",
       "                          (6, 5): [(6, 5)],\n",
       "                          (4, 7): [(4, 7)]}),\n",
       "             'M': defaultdict(list,\n",
       "                         {(7, 0): [(7, 0), (8, 0), (9, 0), (9, 1), (9, 2)]}),\n",
       "             'F': defaultdict(list,\n",
       "                         {(0, 8): [(0, 8), (0, 9)],\n",
       "                          (2, 7): [(2, 7), (2, 8), (2, 9)],\n",
       "                          (3, 7): [(3, 7), (3, 8), (3, 9)],\n",
       "                          (1, 9): [(1, 9)],\n",
       "                          (4, 8): [(4, 8)]}),\n",
       "             'J': defaultdict(list,\n",
       "                         {(4, 5): [(4, 5), (4, 6)],\n",
       "                          (3, 6): [(3, 6)],\n",
       "                          (5, 6): [(5, 6), (5, 7)],\n",
       "                          (6, 6): [(6, 6), (6, 7)],\n",
       "                          (7, 6): [(7, 6), (7, 7)],\n",
       "                          (8, 6): [(8, 6)],\n",
       "                          (9, 6): [(9, 6)]}),\n",
       "             'S': defaultdict(list,\n",
       "                         {(8, 4): [(8, 4)], (9, 4): [(9, 4), (9, 5)]}),\n",
       "             'E': defaultdict(list,\n",
       "                         {(5, 8): [(5, 8), (5, 9)],\n",
       "                          (4, 9): [(4, 9)],\n",
       "                          (6, 8): [(6, 8), (6, 9)],\n",
       "                          (8, 7): [(8, 7), (8, 8), (8, 9)],\n",
       "                          (7, 8): [(7, 8), (7, 9)],\n",
       "                          (9, 7): [(9, 7), (9, 8), (9, 9)]})})"
      ]
     },
     "execution_count": 35,
     "metadata": {},
     "output_type": "execute_result"
    }
   ],
   "source": [
    "regions"
   ]
  },
  {
   "cell_type": "code",
   "execution_count": null,
   "metadata": {},
   "outputs": [],
   "source": []
  }
 ],
 "metadata": {
  "kernelspec": {
   "display_name": "Python 3",
   "language": "python",
   "name": "python3"
  },
  "language_info": {
   "codemirror_mode": {
    "name": "ipython",
    "version": 3
   },
   "file_extension": ".py",
   "mimetype": "text/x-python",
   "name": "python",
   "nbconvert_exporter": "python",
   "pygments_lexer": "ipython3",
   "version": "3.12.2"
  }
 },
 "nbformat": 4,
 "nbformat_minor": 2
}
