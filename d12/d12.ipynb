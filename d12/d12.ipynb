{
 "cells": [
  {
   "cell_type": "code",
   "execution_count": 10,
   "metadata": {},
   "outputs": [
    {
     "data": {
      "text/plain": [
       "['QQQQQQCCCCCCCCCCCCXXXXXXXXXXXXXXUUUUUUJEEJJJJJQQQQIIISSVVVVVVVVVMMMMMMMMMMMMMMMMMMVVVVVWWWWFFFFFFFFFFFFAFZZZZZZZZZZZMMMMMMMMMMMMMMMMMMVMMQQQ',\n",
       " 'QQQQQCCCCCCCCCCCCCCCCXXXXXXXXXXUUUUUUUJJJJJJJJIIIQIIIIVVVVVVVVVVMMMMMMFMMMMMMMMMMMMVVVWWWWWFFFFFFFFFFFFFFZZZZZZZZLLZMMMMMMMMMMMMMMMMMMMMQQQQ',\n",
       " 'QQQQQQCCCCCCCCCCCCCCCCCCCXXXXXXUUUUUUJJJJJJJJJIIIIIIIIIVVVVVVVVMMMFFFFFMMMMMMMMMMMWWWWWWWWFFFFFFFFFFFFFFFZZZZZZZZLLZMMMMMMMMMMMMMMMHMQQMQQQQ',\n",
       " 'QQQQQCCCCCCCCCCCCCCCCCCCXXXXXXXUUUUUUUJJJJJJJJIIIIIIIIIIVVVVVVVVMMMMFFFMMMMMMMMMMMWWFFWWWWFFFFFFFFFFFFFFFZZZZZZZZMMMMMMMMMMMMMMMHHMHQQQQQQQQ',\n",
       " 'QQQQQQCCCCCCCCCCCCCCCCCXXZXXXXXXUUUUUUJJJJJJJYIIIIIIIIIIVVVVVVVVVVVFFFBBBMMMMMMMMFFWFFWWWWFFFFFFFFFFFFZZZZZZZZZZZLLMMMMMMMMMHMMHHHHHQQQQQQQQ',\n",
       " 'QQQQQQCCCCCCCCCCCCCCCZZZZZXXXXXXXUUUUUJJJOJJJYIIIIIIIIIVVVVVVVVVVVBFFFBBBBMMMMMMFFFFFFWZWWWWFFFFFFFFFFZZZZZZZZZZLLMMMMMMMMHHHHHRHHHHHHQQQQQQ',\n",
       " 'QQQQQQCCCCCCCCCCCCCCCZZZZTTXXXUUUUUUUUUUUOJJJJIIIIIIIIIIVVVVVVVVVVBBFBBBBBMMMMMMFFFFZDZZZWWWFFFFFFFFFFZZZZZZZZZZLLMMMMMMMMMHHHHHHHHHHHQQQQQQ',\n",
       " 'QQQQQQCCCCCCCCCCCCCCZZZZPTTTXXXXXUXXUUUUUOOJUUUUUIIIIIIIVVVVVVVVVBBBBBBBBBBBMMMFFFFFZZZZWWWAAAFFFFFFFFZZZZZZZZZZZLMMMMMMMMMMMHHHHHHHHHQQQQQQ',\n",
       " 'QIIIIIICCIWCCCCCCCCZZTTTTTTTTXXXXXXXXUUUUOXJUXUUUIIIQQQQQQQVVVVVVBBBBBBBBBBBMFFFFFFFZZZZAAAAAFFFFFFFDZZZZZZZZLLLZLLLMMMMMMMMMHHHHHHJJQQQQQQQ',\n",
       " 'IIIIIIICCIIMMQCCCCZZTTTTTTTTXXXXRRXXXUUUGXXXXXUUUIIIQQQQQQQVVVVVVBBBBBBBABMBMFFEFFFFFZZZZAAAAFFFFFFFDAZZZAAAALLLLLLMMMMMMMMMHHHHHHHJJQQQQQQQ']"
      ]
     },
     "execution_count": 10,
     "metadata": {},
     "output_type": "execute_result"
    }
   ],
   "source": [
    "with open(\"d12_input.txt\", \"r\", encoding=\"utf8\") as f:\n",
    "    inp = [x.strip() for x in f.readlines()]\n",
    "inp[:10]"
   ]
  },
  {
   "cell_type": "code",
   "execution_count": 11,
   "metadata": {},
   "outputs": [],
   "source": [
    "# inp = [\n",
    "#     \"RRRRIICCFF\",\n",
    "#     \"RRRRIICCCF\",\n",
    "#     \"VVRRRCCFFF\",\n",
    "#     \"VVRCCCJFFF\",\n",
    "#     \"VVVVCJJCFE\",\n",
    "#     \"VVIVCCJJEE\",\n",
    "#     \"VVIIICJJEE\",\n",
    "#     \"MIIIIIJJEE\",\n",
    "#     \"MIIISIJEEE\",\n",
    "#     \"MMMISSJEEE\",\n",
    "# ]"
   ]
  },
  {
   "cell_type": "code",
   "execution_count": 12,
   "metadata": {},
   "outputs": [],
   "source": [
    "nrows, ncols = len(inp), len(inp[0])"
   ]
  },
  {
   "cell_type": "code",
   "execution_count": 13,
   "metadata": {},
   "outputs": [],
   "source": [
    "# only left right down up steps\n",
    "deltas = [(-1, 0), (1, 0), (0, -1), (0, 1)]\n",
    "get_neighbors = lambda r, c: list(filter(lambda x: x[0] >= 0 and x[1] >= 0 and x[0] < nrows and x[1] < ncols, \n",
    "                                    [(r+dr, c+dc) for dr, dc in deltas]))"
   ]
  },
  {
   "cell_type": "code",
   "execution_count": 14,
   "metadata": {},
   "outputs": [],
   "source": [
    "get = lambda r, c: inp[r][c]"
   ]
  },
  {
   "cell_type": "code",
   "execution_count": 19,
   "metadata": {},
   "outputs": [],
   "source": [
    "import collections\n",
    "from typing import Tuple\n",
    "def get_region(start: Tuple[int, int]) -> Tuple[set, int]:\n",
    "    seen, region = set(), set()\n",
    "    count = 0 \n",
    "    letter = get(*start)\n",
    "\n",
    "    q = collections.deque([start]) # deque of start and current pos\n",
    "    while q:\n",
    "        curr = q.popleft()\n",
    "        if curr in seen:\n",
    "            continue\n",
    "        seen.add(curr)\n",
    "        # print(f\"{get(*curr)=} {letter=}\")\n",
    "        region.add(curr)\n",
    "        # print(f\"{start=} {curr=} {letter=} {get_neighbors(*curr)=}\")\n",
    "        surr = 0\n",
    "        for n in get_neighbors(*curr):\n",
    "            if get(*n) != letter:\n",
    "                continue\n",
    "            surr += 1\n",
    "            q.append(n)\n",
    "        count += 4 - surr\n",
    "        \n",
    "    return region, count\n"
   ]
  },
  {
   "cell_type": "code",
   "execution_count": 20,
   "metadata": {},
   "outputs": [
    {
     "data": {
      "text/plain": [
       "1486324"
      ]
     },
     "execution_count": 20,
     "metadata": {},
     "output_type": "execute_result"
    }
   ],
   "source": [
    "import itertools\n",
    "seen = set()\n",
    "total1, total2 = 0, 0\n",
    "for rc in itertools.product(range(nrows), range(ncols)):\n",
    "    if rc in seen:\n",
    "        continue\n",
    "    region, count = get_region(rc)\n",
    "    \n",
    "    # print(f\"{rc=} {region=} {count=}\")\n",
    "    seen |= region\n",
    "    total1 += len(region)*count\n",
    "total1 "
   ]
  },
  {
   "cell_type": "markdown",
   "metadata": {},
   "source": [
    "# types of corners\n",
    "```\n",
    "....\n",
    ".XX.\n",
    ".XO.\n",
    "....\n",
    "\n",
    "....\n",
    ".XO.\n",
    ".XX.\n",
    "....\n",
    "\n",
    "....\n",
    ".OX.\n",
    ".XX.\n",
    "....\n",
    "\n",
    "....\n",
    ".XX.\n",
    ".OX.\n",
    "....\n",
    "\n",
    "....\n",
    ".XO.\n",
    ".OX.\n",
    "....\n",
    "\n",
    "```"
   ]
  },
  {
   "cell_type": "code",
   "execution_count": 25,
   "metadata": {},
   "outputs": [],
   "source": [
    "def get_corners(region: set) -> int:\n",
    "    # saw the idea to iterate on diag on reddit and borrowing it here\n",
    "    corners = 0\n",
    "    for r, c in region:\n",
    "        for dr, dc in itertools.product([1,-1], repeat=2): # get diags\n",
    "            rn, cn = (r+dr, c), (r, c+dc)\n",
    "            diag = (r+dr, c+dc)\n",
    "\n",
    "            # regular \"corner\"\n",
    "            if (rn in region) and (cn in region) and diag not in region:\n",
    "                corners += 1\n",
    "            # loner corner\n",
    "            if rn not in region and cn not in region:\n",
    "                corners += 1\n",
    "    return corners \n"
   ]
  },
  {
   "cell_type": "code",
   "execution_count": 26,
   "metadata": {},
   "outputs": [
    {
     "name": "stdout",
     "output_type": "stream",
     "text": [
      "total1=1486324 total2=898684\n"
     ]
    }
   ],
   "source": [
    "import itertools\n",
    "seen = set()\n",
    "total1, total2 = 0, 0\n",
    "for rc in itertools.product(range(nrows), range(ncols)):\n",
    "    if rc in seen:\n",
    "        continue\n",
    "    region, count = get_region(rc)\n",
    "    corners = get_corners(region)\n",
    "    \n",
    "    # print(f\"{rc=} {region=} {count=}\")\n",
    "    seen |= region\n",
    "    total1 += len(region)*count\n",
    "    total2 += len(region)*corners\n",
    "print(f\"{total1=} {total2=}\") "
   ]
  },
  {
   "cell_type": "code",
   "execution_count": null,
   "metadata": {},
   "outputs": [],
   "source": []
  }
 ],
 "metadata": {
  "kernelspec": {
   "display_name": "Python 3",
   "language": "python",
   "name": "python3"
  },
  "language_info": {
   "codemirror_mode": {
    "name": "ipython",
    "version": 3
   },
   "file_extension": ".py",
   "mimetype": "text/x-python",
   "name": "python",
   "nbconvert_exporter": "python",
   "pygments_lexer": "ipython3",
   "version": "3.12.2"
  }
 },
 "nbformat": 4,
 "nbformat_minor": 2
}
