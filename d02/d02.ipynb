{
 "cells": [
  {
   "cell_type": "code",
   "execution_count": 1,
   "metadata": {},
   "outputs": [
    {
     "data": {
      "text/plain": [
       "[[8, 10, 13, 14, 12],\n",
       " [40, 42, 45, 47, 49, 49],\n",
       " [45, 48, 51, 52, 55, 58, 62],\n",
       " [61, 63, 64, 67, 69, 72, 74, 81],\n",
       " [95, 97, 98, 99, 98, 99],\n",
       " [84, 85, 88, 89, 88, 85],\n",
       " [20, 23, 21, 24, 25, 28, 31, 31],\n",
       " [15, 16, 18, 17, 18, 22],\n",
       " [31, 32, 30, 32, 34, 39],\n",
       " [72, 74, 74, 77, 78]]"
      ]
     },
     "execution_count": 1,
     "metadata": {},
     "output_type": "execute_result"
    }
   ],
   "source": [
    "with open(\"d2_input.txt\", \"r\", encoding=\"utf8\") as f:\n",
    "    lines = [list(map(int, x.split())) for x in f.readlines()]\n",
    "lines[:10]"
   ]
  },
  {
   "cell_type": "code",
   "execution_count": 2,
   "metadata": {},
   "outputs": [
    {
     "data": {
      "text/plain": [
       "[[(8, 10), (10, 13), (13, 14), (14, 12)],\n",
       " [(40, 42), (42, 45), (45, 47), (47, 49), (49, 49)],\n",
       " [(45, 48), (48, 51), (51, 52), (52, 55), (55, 58), (58, 62)],\n",
       " [(61, 63), (63, 64), (64, 67), (67, 69), (69, 72), (72, 74), (74, 81)],\n",
       " [(95, 97), (97, 98), (98, 99), (99, 98), (98, 99)],\n",
       " [(84, 85), (85, 88), (88, 89), (89, 88), (88, 85)],\n",
       " [(20, 23), (23, 21), (21, 24), (24, 25), (25, 28), (28, 31), (31, 31)],\n",
       " [(15, 16), (16, 18), (18, 17), (17, 18), (18, 22)],\n",
       " [(31, 32), (32, 30), (30, 32), (32, 34), (34, 39)],\n",
       " [(72, 74), (74, 74), (74, 77), (77, 78)]]"
      ]
     },
     "metadata": {},
     "output_type": "display_data"
    },
    {
     "data": {
      "text/plain": [
       "[[-2, -3, -1, 2],\n",
       " [-2, -3, -2, -2, 0],\n",
       " [-3, -3, -1, -3, -3, -4],\n",
       " [-2, -1, -3, -2, -3, -2, -7],\n",
       " [-2, -1, -1, 1, -1],\n",
       " [-1, -3, -1, 1, 3],\n",
       " [-3, 2, -3, -1, -3, -3, 0],\n",
       " [-1, -2, 1, -1, -4],\n",
       " [-1, 2, -2, -2, -5],\n",
       " [-2, 0, -3, -1]]"
      ]
     },
     "execution_count": 2,
     "metadata": {},
     "output_type": "execute_result"
    }
   ],
   "source": [
    "import itertools\n",
    "import functools\n",
    "import operator\n",
    "\n",
    "pairwises = [list(itertools.pairwise(x)) for x in lines]\n",
    "\n",
    "# function to take the difference of the tuples in a row\n",
    "take_diff = lambda x: functools.reduce(operator.sub, x)\n",
    "diffs = [list(map(take_diff, list(row))) for row in pairwises]\n",
    "\n",
    "display([list(x) for x in pairwises][:10])\n",
    "diffs[:10]"
   ]
  },
  {
   "cell_type": "code",
   "execution_count": 3,
   "metadata": {},
   "outputs": [
    {
     "data": {
      "text/plain": [
       "598"
      ]
     },
     "metadata": {},
     "output_type": "display_data"
    }
   ],
   "source": [
    "kosher_test = lambda row: all((x > 0 and x <= 3 for x in row)) or all((x < 0 and x >= -3 for x in row))\n",
    "\n",
    "ans = sum(map(kosher_test, diffs))\n",
    "display(ans)\n"
   ]
  },
  {
   "cell_type": "code",
   "execution_count": 4,
   "metadata": {},
   "outputs": [
    {
     "data": {
      "text/plain": [
       "[False, False, False, False, False, False, False, False, False, False]"
      ]
     },
     "execution_count": 4,
     "metadata": {},
     "output_type": "execute_result"
    }
   ],
   "source": [
    "[kosher_test(x) for x in diffs][:10]"
   ]
  },
  {
   "cell_type": "code",
   "execution_count": 5,
   "metadata": {},
   "outputs": [
    {
     "data": {
      "text/plain": [
       "[[-2, -3, -1, 2],\n",
       " [-2, -3, -2, -2, 0],\n",
       " [-3, -3, -1, -3, -3, -4],\n",
       " [-2, -1, -3, -2, -3, -2, -7],\n",
       " [-2, -1, -1, 1, -1],\n",
       " [-1, -3, -1, 1, 3],\n",
       " [-3, 2, -3, -1, -3, -3, 0],\n",
       " [-1, -2, 1, -1, -4],\n",
       " [-1, 2, -2, -2, -5],\n",
       " [-2, 0, -3, -1]]"
      ]
     },
     "execution_count": 5,
     "metadata": {},
     "output_type": "execute_result"
    }
   ],
   "source": [
    "diffs[:10]"
   ]
  },
  {
   "cell_type": "markdown",
   "metadata": {},
   "source": [
    "## pt2"
   ]
  },
  {
   "cell_type": "code",
   "execution_count": 6,
   "metadata": {},
   "outputs": [],
   "source": [
    "def row_test(row: list) -> bool:\n",
    "    rows = [row[:i] + row[i+1:] for i, _ in enumerate(row)] + [row] # generate row options\n",
    "    # print(rows) \n",
    "    pairwises = [list(itertools.pairwise(x)) for x in rows]\n",
    "    # print(pairwises)\n",
    "    diffs =  [list(map(take_diff, list(row))) for row in pairwises]\n",
    "    # print(diffs)\n",
    "    koshs = [kosher_test(x) for x in diffs]\n",
    "    return any(koshs)\n",
    "    # print(koshs)"
   ]
  },
  {
   "cell_type": "code",
   "execution_count": 7,
   "metadata": {},
   "outputs": [
    {
     "data": {
      "text/plain": [
       "True"
      ]
     },
     "execution_count": 7,
     "metadata": {},
     "output_type": "execute_result"
    }
   ],
   "source": [
    "row_test([8, 10, 13, 14, 12])"
   ]
  },
  {
   "cell_type": "code",
   "execution_count": 8,
   "metadata": {},
   "outputs": [
    {
     "data": {
      "text/plain": [
       "634"
      ]
     },
     "execution_count": 8,
     "metadata": {},
     "output_type": "execute_result"
    }
   ],
   "source": [
    "sum(map(row_test, lines))"
   ]
  }
 ],
 "metadata": {
  "kernelspec": {
   "display_name": "Python 3",
   "language": "python",
   "name": "python3"
  },
  "language_info": {
   "codemirror_mode": {
    "name": "ipython",
    "version": 3
   },
   "file_extension": ".py",
   "mimetype": "text/x-python",
   "name": "python",
   "nbconvert_exporter": "python",
   "pygments_lexer": "ipython3",
   "version": "3.12.2"
  }
 },
 "nbformat": 4,
 "nbformat_minor": 2
}
