{
 "cells": [
  {
   "cell_type": "code",
   "execution_count": 8,
   "metadata": {},
   "outputs": [
    {
     "data": {
      "text/plain": [
       "['31|94',\n",
       " '98|37',\n",
       " '98|49',\n",
       " '25|17',\n",
       " '25|22',\n",
       " '25|44',\n",
       " '89|84',\n",
       " '89|66',\n",
       " '89|32',\n",
       " '89|72']"
      ]
     },
     "execution_count": 8,
     "metadata": {},
     "output_type": "execute_result"
    }
   ],
   "source": [
    "with open(\"d5_input.txt\", \"r\", encoding=\"utf8\") as f:\n",
    "    text = [x.strip(\"\\n\") for x in f.readlines()]\n",
    "text[:10]"
   ]
  },
  {
   "cell_type": "code",
   "execution_count": 20,
   "metadata": {},
   "outputs": [
    {
     "data": {
      "text/plain": [
       "['31|94',\n",
       " '98|37',\n",
       " '98|49',\n",
       " '25|17',\n",
       " '25|22',\n",
       " '25|44',\n",
       " '89|84',\n",
       " '89|66',\n",
       " '89|32',\n",
       " '89|72']"
      ]
     },
     "metadata": {},
     "output_type": "display_data"
    },
    {
     "data": {
      "text/plain": [
       "['11,71,68,89,88,79,21,96,47,55,14,27,15,87,23,42,62,64,54,77,94,59,36',\n",
       " '87,89,59,36,96,71,44,19,47,55,11,25,54,64,88,14,42,27,97,24,21',\n",
       " '79,19,89,59,53,32,13,66,24,98,25,88,44,17,97,21,77,14,51,78,36,55,34',\n",
       " '56,49,85,33,76,22,23,15,62,94,68,27,96,87,64,11,36,21,53,88,79',\n",
       " '42,25,44,97,24,19,98,34,32,78,13,84,37,31,18,72,56,85,33',\n",
       " '47,21,53,88,55,89,77,14,42,25,44,97,19,66,17,98,34,32,51',\n",
       " '13,31,56,33,23,27,96,54,64',\n",
       " '53,88,55,59,42,25,44,97,24,19,66,17,98,34,32,78,13,67,84',\n",
       " '44,68,71,14,64,87,53,27,97,54,94,59,77',\n",
       " '77,47,19,34,53']"
      ]
     },
     "metadata": {},
     "output_type": "display_data"
    }
   ],
   "source": [
    "import itertools\n",
    "rules, updates = [list(g) for k, g in itertools.groupby(text, lambda x: x == '') if not k]\n",
    "display(rules[:10])\n",
    "display(updates[:10])"
   ]
  },
  {
   "cell_type": "code",
   "execution_count": 69,
   "metadata": {},
   "outputs": [
    {
     "data": {
      "text/plain": [
       "[[31, 94],\n",
       " [98, 37],\n",
       " [98, 49],\n",
       " [25, 17],\n",
       " [25, 22],\n",
       " [25, 44],\n",
       " [89, 84],\n",
       " [89, 66],\n",
       " [89, 32],\n",
       " [89, 72]]"
      ]
     },
     "execution_count": 69,
     "metadata": {},
     "output_type": "execute_result"
    }
   ],
   "source": [
    "parsed_rules = [list(map(int, x)) for x in map(lambda x: x.split(\"|\"), rules)]\n",
    "parsed_rules[:10]"
   ]
  },
  {
   "cell_type": "code",
   "execution_count": 76,
   "metadata": {},
   "outputs": [
    {
     "data": {
      "text/plain": [
       "[11, 71, 68, 89, 88, 79, 21, 96, 47, 55]"
      ]
     },
     "execution_count": 76,
     "metadata": {},
     "output_type": "execute_result"
    }
   ],
   "source": [
    "parsed_updates =  [list(map(int, x)) for x in map(lambda x: x.split(\",\"), updates)]\n",
    "parsed_updates[0][:10]"
   ]
  },
  {
   "cell_type": "code",
   "execution_count": null,
   "metadata": {},
   "outputs": [],
   "source": []
  },
  {
   "cell_type": "code",
   "execution_count": 82,
   "metadata": {},
   "outputs": [
    {
     "data": {
      "text/plain": [
       "defaultdict(int,\n",
       "            {94: 24,\n",
       "             37: 24,\n",
       "             49: 24,\n",
       "             17: 24,\n",
       "             22: 24,\n",
       "             44: 24,\n",
       "             84: 24,\n",
       "             66: 24,\n",
       "             32: 24,\n",
       "             72: 24,\n",
       "             31: 24,\n",
       "             33: 24,\n",
       "             51: 24,\n",
       "             67: 24,\n",
       "             23: 24,\n",
       "             96: 24,\n",
       "             11: 24,\n",
       "             53: 24,\n",
       "             47: 24,\n",
       "             36: 24,\n",
       "             89: 24,\n",
       "             76: 24,\n",
       "             88: 24,\n",
       "             64: 24,\n",
       "             62: 24,\n",
       "             56: 24,\n",
       "             87: 24,\n",
       "             54: 24,\n",
       "             42: 24,\n",
       "             19: 24,\n",
       "             98: 24,\n",
       "             24: 24,\n",
       "             71: 24,\n",
       "             21: 24,\n",
       "             18: 24,\n",
       "             27: 24,\n",
       "             68: 24,\n",
       "             15: 24,\n",
       "             78: 24,\n",
       "             79: 24,\n",
       "             85: 24,\n",
       "             97: 24,\n",
       "             59: 24,\n",
       "             25: 24,\n",
       "             34: 24,\n",
       "             55: 24,\n",
       "             77: 24,\n",
       "             14: 24,\n",
       "             13: 24})"
      ]
     },
     "execution_count": 82,
     "metadata": {},
     "output_type": "execute_result"
    }
   ],
   "source": [
    "indeg"
   ]
  },
  {
   "cell_type": "code",
   "execution_count": 85,
   "metadata": {},
   "outputs": [],
   "source": [
    "# import copy\n",
    "import collections\n",
    "\n",
    "def valid(row: list[str]) -> int:\n",
    "    adj = collections.defaultdict(set) # set(v) things that depend on k\n",
    "    indeg = collections.defaultdict(int)\n",
    "    for req, dep in parsed_rules:\n",
    "        if req not in row or dep not in row: \n",
    "            continue\n",
    "        adj[req].add(dep)\n",
    "        indeg[dep] += 1\n",
    "    # _adj, _indeg = copy.deepcopy(adj), copy.deepcopy(indeg)\n",
    "    # print(f\"{_adj=}, {_indeg=}\")\n",
    "    for c in row:\n",
    "        # print(f\"{c=} indeg= {_indeg[c]}\")\n",
    "        if indeg[c] != 0: \n",
    "            # print(f\"fail {row} on {c=}\")\n",
    "            return 0\n",
    "        # print(\"yes\")\n",
    "        for adjs in adj[c]:\n",
    "            indeg[adjs] -= 1\n",
    "    return int(row[len(row)//2])\n"
   ]
  },
  {
   "cell_type": "code",
   "execution_count": 86,
   "metadata": {},
   "outputs": [
    {
     "name": "stdout",
     "output_type": "stream",
     "text": [
      "4814\n"
     ]
    }
   ],
   "source": [
    "print(sum(map(valid, parsed_updates)))"
   ]
  },
  {
   "cell_type": "code",
   "execution_count": 89,
   "metadata": {},
   "outputs": [],
   "source": [
    "# import copy\n",
    "import collections\n",
    "\n",
    "def fixup(row: list[str]) -> int:\n",
    "    if valid(row) != 0: return 0 # only incorrect ones\n",
    "    adj = collections.defaultdict(set) # set(v) things that depend on k\n",
    "    indeg = collections.defaultdict(int)\n",
    "    for req, dep in parsed_rules:\n",
    "        if req not in row or dep not in row: \n",
    "            continue\n",
    "        adj[req].add(dep)\n",
    "        indeg[dep] += 1\n",
    "    q = collections.deque([x for x in set(row) if indeg[x] == 0])\n",
    "    ret = []\n",
    "    while q:\n",
    "        x = q.popleft()\n",
    "        ret.append(x)\n",
    "        for adjs in adj[x]:\n",
    "            indeg[adjs] -= 1\n",
    "            if indeg[adjs] == 0:\n",
    "                q.append(adjs)\n",
    "    return ret[len(ret)//2]\n"
   ]
  },
  {
   "cell_type": "code",
   "execution_count": 90,
   "metadata": {},
   "outputs": [
    {
     "data": {
      "text/plain": [
       "5448"
      ]
     },
     "execution_count": 90,
     "metadata": {},
     "output_type": "execute_result"
    }
   ],
   "source": [
    "sum(map(fixup, parsed_updates))"
   ]
  },
  {
   "cell_type": "code",
   "execution_count": null,
   "metadata": {},
   "outputs": [],
   "source": []
  }
 ],
 "metadata": {
  "kernelspec": {
   "display_name": "Python 3",
   "language": "python",
   "name": "python3"
  },
  "language_info": {
   "codemirror_mode": {
    "name": "ipython",
    "version": 3
   },
   "file_extension": ".py",
   "mimetype": "text/x-python",
   "name": "python",
   "nbconvert_exporter": "python",
   "pygments_lexer": "ipython3",
   "version": "3.12.2"
  }
 },
 "nbformat": 4,
 "nbformat_minor": 2
}
