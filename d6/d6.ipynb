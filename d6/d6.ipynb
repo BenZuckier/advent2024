{
 "cells": [
  {
   "cell_type": "code",
   "execution_count": 45,
   "metadata": {},
   "outputs": [
    {
     "data": {
      "text/plain": [
       "['.........................#...........#.#...#...............#..............##.....................#...........#..#.........#.......',\n",
       " '.....................#.................#.......#.........................#...........#.#.......#..................................',\n",
       " '.........#...........#........#.........#.........#...........#........................................#.........................#',\n",
       " '.......#.........................#...........................#.............#......................................................',\n",
       " '..................#................##...............#.#.....................##............#.......................................',\n",
       " '......#...#................#..................................................................#....#.#............................',\n",
       " '.......##................#........#..#.......#......................................#........#............#......###..........#...',\n",
       " '.....................#....................................................#...........#..#...#..........................#.........',\n",
       " '...........#....#...........................#.#...............#..#....................................#..............#......#.....',\n",
       " '.....#........##...............#.......#..#..............................................#..........................#.............']"
      ]
     },
     "execution_count": 45,
     "metadata": {},
     "output_type": "execute_result"
    }
   ],
   "source": [
    "with open(\"d6_input.txt\", \"r\", encoding=\"utf8\") as f:\n",
    "    text = [x.strip(\"\\n\") for x in f.readlines()]\n",
    "text[:10]"
   ]
  },
  {
   "cell_type": "code",
   "execution_count": 46,
   "metadata": {},
   "outputs": [
    {
     "data": {
      "text/plain": [
       "[(0, 25),\n",
       " (0, 37),\n",
       " (0, 39),\n",
       " (0, 43),\n",
       " (0, 59),\n",
       " (0, 74),\n",
       " (0, 75),\n",
       " (0, 97),\n",
       " (0, 109),\n",
       " (0, 112)]"
      ]
     },
     "execution_count": 46,
     "metadata": {},
     "output_type": "execute_result"
    }
   ],
   "source": [
    "import itertools\n",
    "hashes = list(itertools.chain.from_iterable([[(row, i) for i, e in enumerate(row_text) if e == \"#\"] for row, row_text in enumerate(text)]))\n",
    "hashes[:10]"
   ]
  },
  {
   "cell_type": "code",
   "execution_count": 47,
   "metadata": {},
   "outputs": [
    {
     "data": {
      "text/plain": [
       "[[25, 37, 39, 43, 59, 74, 75, 97, 109, 112, 122],\n",
       " [21, 39, 47, 73, 85, 87, 95],\n",
       " [9, 21, 30, 40, 50, 62, 103, 129],\n",
       " [7, 33, 61, 75],\n",
       " [18, 35, 36, 52, 54, 76, 77, 90],\n",
       " [6, 10, 27, 94, 99, 101],\n",
       " [7, 8, 25, 34, 37, 45, 84, 93, 106, 113, 114, 115, 126],\n",
       " [21, 74, 86, 89, 93, 120],\n",
       " [11, 16, 44, 46, 62, 65, 102, 117, 124],\n",
       " [5, 14, 15, 31, 39, 42, 89, 116]]"
      ]
     },
     "execution_count": 47,
     "metadata": {},
     "output_type": "execute_result"
    }
   ],
   "source": [
    "by_row, by_col = [list() for _ in range(len(text))], [list() for _ in range(len(text[0]))]\n",
    "for r, c in hashes:\n",
    "    by_row[r].append(c)\n",
    "    by_col[c].append(r)\n",
    "by_row[:10]"
   ]
  },
  {
   "cell_type": "code",
   "execution_count": 48,
   "metadata": {},
   "outputs": [
    {
     "data": {
      "text/plain": [
       "(94, 73)"
      ]
     },
     "execution_count": 48,
     "metadata": {},
     "output_type": "execute_result"
    }
   ],
   "source": [
    "start = list(itertools.chain.from_iterable([[(row, i) for i, e in enumerate(row_text) if e in \"^\"] for row, row_text in enumerate(text)]))[0]\n",
    "start"
   ]
  },
  {
   "cell_type": "code",
   "execution_count": 49,
   "metadata": {},
   "outputs": [
    {
     "data": {
      "text/plain": [
       "0"
      ]
     },
     "execution_count": 49,
     "metadata": {},
     "output_type": "execute_result"
    }
   ],
   "source": [
    "from typing import Callable\n",
    "dirs = {\n",
    "    0: \"up\",\n",
    "    1: \"right\",\n",
    "    2: \"down\",\n",
    "    3: \"left\"\n",
    "}\n",
    "next_dir: Callable[[int], int] = lambda x: (x+1)%4\n",
    "next_dir(3)"
   ]
  },
  {
   "cell_type": "code",
   "execution_count": 50,
   "metadata": {},
   "outputs": [
    {
     "data": {
      "text/plain": [
       "5242"
      ]
     },
     "execution_count": 50,
     "metadata": {},
     "output_type": "execute_result"
    }
   ],
   "source": [
    "import bisect\n",
    "import collections\n",
    "cols_in_row = collections.defaultdict(set)\n",
    "walked, prev = 0, 0\n",
    "facing = 0\n",
    "rpos, cpos = start\n",
    "while True:\n",
    "    # print(f\"{rpos=}, {cpos=}, {facing=}, {walked=}, new_walk={walked-prev}\")\n",
    "    prev = walked\n",
    "    if facing == 0: # up, move within my col to a lower row\n",
    "        x = bisect.bisect_left(by_col[cpos], rpos)\n",
    "        if x == 0:\n",
    "            # walked += rpos # if on row index 2, i go 3 spaces to fall off the edge\n",
    "            for i in range(0, rpos+1):\n",
    "                cols_in_row[i].add(cpos)\n",
    "            break\n",
    "        # walked += rpos - by_col[cpos][x-1] - 1\n",
    "        for i in range(by_col[cpos][x-1]+1, rpos+1):\n",
    "            cols_in_row[i].add(cpos)\n",
    "        rpos = by_col[cpos][x-1] + 1\n",
    "        \n",
    "    elif facing == 1: # right, move within my row to a higher col\n",
    "        x = bisect.bisect_right(by_row[rpos], cpos)\n",
    "        if x == len(by_row[rpos]):\n",
    "            for i in range(cpos, len(text[0])):\n",
    "                cols_in_row[rpos].add(i)\n",
    "            # walked += len(text[0]) - 1 - cpos # how many cols in a row minus my column position in my row (minus one)\n",
    "            break\n",
    "        # walked += by_row[rpos][x] - 1 - cpos\n",
    "        for i in range(cpos, by_row[rpos][x]):\n",
    "            cols_in_row[rpos].add(i)\n",
    "        cpos = by_row[rpos][x] - 1\n",
    "\n",
    "    elif facing == 2: # down, move within my col to a higher row\n",
    "        x = bisect.bisect_right(by_col[cpos], rpos)\n",
    "        if x == len(by_col[cpos]):\n",
    "            # walked += len(text) - 1 - rpos\n",
    "            for i in range(rpos, len(text)):\n",
    "                cols_in_row[i].add(cpos)\n",
    "            break\n",
    "        # walked += by_col[cpos][x] - 1 - rpos\n",
    "        for i in range(rpos, by_col[cpos][x]):\n",
    "            cols_in_row[i].add(cpos)\n",
    "        rpos = by_col[cpos][x] - 1\n",
    "\n",
    "    elif facing == 3: # left, move within my row to a lower col\n",
    "        x = bisect.bisect_left(by_row[rpos], cpos)\n",
    "        if x == 0:\n",
    "            # walked += cpos\n",
    "            for i in range(0, cpos+1):\n",
    "                cols_in_row[rpos].add(i)\n",
    "            break\n",
    "        # walked += cpos - by_row[rpos][x-1] - 1\n",
    "        for i in range(by_row[rpos][x-1]+1, cpos+1):\n",
    "            cols_in_row[rpos].add(i)\n",
    "        cpos = by_row[rpos][x-1] + 1\n",
    "\n",
    "    else:\n",
    "        print(\"FAIL\")\n",
    "    facing = next_dir(facing)\n",
    "\n",
    "# print(walked)\n",
    "sum(len(x) for x in cols_in_row.values())"
   ]
  },
  {
   "cell_type": "markdown",
   "metadata": {},
   "source": [
    "a box is \n",
    "```\n",
    "0x00x\n",
    "00000\n",
    "0x00x\n",
    "\n",
    "(0, 1), (0, 4), (2, 1), (2, 4)\n",
    "\n",
    "\n",
    "```"
   ]
  },
  {
   "cell_type": "code",
   "execution_count": 61,
   "metadata": {},
   "outputs": [
    {
     "data": {
      "text/plain": [
       "[(25, 37),\n",
       " (25, 39),\n",
       " (25, 43),\n",
       " (25, 59),\n",
       " (25, 74),\n",
       " (25, 75),\n",
       " (25, 97),\n",
       " (25, 109),\n",
       " (25, 112),\n",
       " (25, 122),\n",
       " (37, 39),\n",
       " (37, 43),\n",
       " (37, 59),\n",
       " (37, 74),\n",
       " (37, 75),\n",
       " (37, 97),\n",
       " (37, 109),\n",
       " (37, 112),\n",
       " (37, 122),\n",
       " (39, 43),\n",
       " (39, 59),\n",
       " (39, 74),\n",
       " (39, 75),\n",
       " (39, 97),\n",
       " (39, 109),\n",
       " (39, 112),\n",
       " (39, 122),\n",
       " (43, 59),\n",
       " (43, 74),\n",
       " (43, 75),\n",
       " (43, 97),\n",
       " (43, 109),\n",
       " (43, 112),\n",
       " (43, 122),\n",
       " (59, 74),\n",
       " (59, 75),\n",
       " (59, 97),\n",
       " (59, 109),\n",
       " (59, 112),\n",
       " (59, 122),\n",
       " (74, 75),\n",
       " (74, 97),\n",
       " (74, 109),\n",
       " (74, 112),\n",
       " (74, 122),\n",
       " (75, 97),\n",
       " (75, 109),\n",
       " (75, 112),\n",
       " (75, 122),\n",
       " (97, 109),\n",
       " (97, 112),\n",
       " (97, 122),\n",
       " (109, 112),\n",
       " (109, 122),\n",
       " (112, 122)]"
      ]
     },
     "execution_count": 61,
     "metadata": {},
     "output_type": "execute_result"
    }
   ],
   "source": [
    "import itertools\n",
    "colinear_pairs = [list(itertools.combinations(x, 2)) for x in by_row] \n",
    "colinear_pairs[0]\n"
   ]
  },
  {
   "cell_type": "code",
   "execution_count": 60,
   "metadata": {},
   "outputs": [
    {
     "data": {
      "text/plain": [
       "2617"
      ]
     },
     "execution_count": 60,
     "metadata": {},
     "output_type": "execute_result"
    }
   ],
   "source": [
    "# for each colinear pair, if we have another row with either point, that's a rectangle\n",
    "rects = 0\n",
    "for row_idx, colinear_row in enumerate(colinear_pairs):\n",
    "    for a, b in colinear_row:\n",
    "        if any([(a in x) or (b in x) for idx, x in enumerate(by_row) if idx != row_idx]):\n",
    "            rects += 1\n",
    "rects"
   ]
  },
  {
   "cell_type": "markdown",
   "metadata": {},
   "source": [
    "all that was not correct. i counted the number of rectangles we could create\n",
    "but we are counting the loops, starting from the guard position that we can get stuck in\n",
    "including non rectangles...\n"
   ]
  },
  {
   "cell_type": "code",
   "execution_count": null,
   "metadata": {},
   "outputs": [],
   "source": [
    "by_row, by_col = [list() for _ in range(len(text))], [list() for _ in range(len(text[0]))]\n",
    "for r, c in hashes:\n",
    "    by_row[r].append(c)\n",
    "    by_col[c].append(r)"
   ]
  }
 ],
 "metadata": {
  "kernelspec": {
   "display_name": "Python 3",
   "language": "python",
   "name": "python3"
  },
  "language_info": {
   "codemirror_mode": {
    "name": "ipython",
    "version": 3
   },
   "file_extension": ".py",
   "mimetype": "text/x-python",
   "name": "python",
   "nbconvert_exporter": "python",
   "pygments_lexer": "ipython3",
   "version": "3.12.2"
  }
 },
 "nbformat": 4,
 "nbformat_minor": 2
}
