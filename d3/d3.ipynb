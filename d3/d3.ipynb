{
 "cells": [
  {
   "cell_type": "code",
   "execution_count": 30,
   "metadata": {},
   "outputs": [
    {
     "data": {
      "text/plain": [
       "\"^<when()]'>mul(721,815)wh\""
      ]
     },
     "execution_count": 30,
     "metadata": {},
     "output_type": "execute_result"
    }
   ],
   "source": [
    "with open(\"d3_input.txt\", \"r\", encoding=\"utf8\") as f:\n",
    "    text = f.read()\n",
    "text[:25]"
   ]
  },
  {
   "cell_type": "code",
   "execution_count": 31,
   "metadata": {},
   "outputs": [
    {
     "data": {
      "text/plain": [
       "['mul(721,815)',\n",
       " 'mul(990,467)',\n",
       " 'mul(252,360)',\n",
       " 'mul(733,661)',\n",
       " 'mul(636,928)',\n",
       " 'mul(766,598)',\n",
       " 'mul(117,278)',\n",
       " 'mul(469,793)',\n",
       " 'mul(884,216)',\n",
       " 'mul(795,723)']"
      ]
     },
     "execution_count": 31,
     "metadata": {},
     "output_type": "execute_result"
    }
   ],
   "source": [
    "import re\n",
    "\n",
    "muls = re.findall(r\"mul\\(\\d*,\\d*\\)\", text)\n",
    "muls[:10]"
   ]
  },
  {
   "cell_type": "code",
   "execution_count": 32,
   "metadata": {},
   "outputs": [
    {
     "data": {
      "text/plain": [
       "178538786"
      ]
     },
     "execution_count": 32,
     "metadata": {},
     "output_type": "execute_result"
    }
   ],
   "source": [
    "from operator import mul\n",
    "\n",
    "sum(map(eval, muls))"
   ]
  },
  {
   "cell_type": "code",
   "execution_count": 33,
   "metadata": {},
   "outputs": [],
   "source": [
    "def get_sums(text: str) -> int:\n",
    "    return sum(map(eval, re.findall(r\"mul\\(\\d*,\\d*\\)\", text)))\n",
    "    "
   ]
  },
  {
   "cell_type": "markdown",
   "metadata": {},
   "source": [
    "## part 2"
   ]
  },
  {
   "cell_type": "code",
   "execution_count": 34,
   "metadata": {},
   "outputs": [
    {
     "data": {
      "text/plain": [
       "\"^<when()]'>mul(721,815)wh\""
      ]
     },
     "execution_count": 34,
     "metadata": {},
     "output_type": "execute_result"
    }
   ],
   "source": [
    "spl = text.split(\"don't()\")\n",
    "valid = [spl[0]] + [\"\".join(x.split(\"do()\")[1:]) for x in spl[1:]]\n",
    "valid_text = \"\".join(valid)\n",
    "valid_text[:25]\n"
   ]
  },
  {
   "cell_type": "code",
   "execution_count": 35,
   "metadata": {},
   "outputs": [
    {
     "data": {
      "text/plain": [
       "102467299"
      ]
     },
     "execution_count": 35,
     "metadata": {},
     "output_type": "execute_result"
    }
   ],
   "source": [
    "get_sums(valid_text)"
   ]
  }
 ],
 "metadata": {
  "kernelspec": {
   "display_name": "Python 3",
   "language": "python",
   "name": "python3"
  },
  "language_info": {
   "codemirror_mode": {
    "name": "ipython",
    "version": 3
   },
   "file_extension": ".py",
   "mimetype": "text/x-python",
   "name": "python",
   "nbconvert_exporter": "python",
   "pygments_lexer": "ipython3",
   "version": "3.12.2"
  }
 },
 "nbformat": 4,
 "nbformat_minor": 2
}
