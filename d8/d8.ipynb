{
 "cells": [
  {
   "cell_type": "code",
   "execution_count": 5,
   "metadata": {},
   "outputs": [
    {
     "data": {
      "text/plain": [
       "['.C...............w.......................M.E......',\n",
       " '...............G........V.............Q....M......',\n",
       " 'u........k...........V.y..3........Q..........4.a.',\n",
       " '..........c.9........k..................i..7..a...',\n",
       " '..............y.......................o....a......',\n",
       " '.......C...........6.......y.............E........',\n",
       " '.............................5....x............i..',\n",
       " '...............c.....wy..V.......5..............E.',\n",
       " '........k.......c....G..I............o.........m..',\n",
       " '............C....s......G......o..........5.......']"
      ]
     },
     "execution_count": 5,
     "metadata": {},
     "output_type": "execute_result"
    }
   ],
   "source": [
    "with open(\"d8_input.txt\", \"r\", encoding=\"utf8\") as f:\n",
    "    lines = [x.strip() for x in f.readlines()]\n",
    "lines[:10]"
   ]
  },
  {
   "cell_type": "code",
   "execution_count": 6,
   "metadata": {},
   "outputs": [],
   "source": [
    "nrow, ncol = len(lines), len(lines[0])"
   ]
  },
  {
   "cell_type": "code",
   "execution_count": 50,
   "metadata": {},
   "outputs": [
    {
     "data": {
      "text/plain": [
       "[('C', (0, 1)),\n",
       " ('w', (0, 17)),\n",
       " ('M', (0, 41)),\n",
       " ('E', (0, 43)),\n",
       " ('G', (1, 15)),\n",
       " ('V', (1, 24)),\n",
       " ('Q', (1, 38)),\n",
       " ('M', (1, 43)),\n",
       " ('u', (2, 0)),\n",
       " ('k', (2, 9))]"
      ]
     },
     "execution_count": 50,
     "metadata": {},
     "output_type": "execute_result"
    }
   ],
   "source": [
    "import itertools\n",
    "\n",
    "antennas_locations = [(lines[x[0]][x[1]], x) for x in itertools.product(range(nrow), range(ncol)) if lines[x[0]][x[1]] != \".\"]\n",
    "antennas_locations[:10]"
   ]
  },
  {
   "cell_type": "code",
   "execution_count": 54,
   "metadata": {},
   "outputs": [
    {
     "data": {
      "text/plain": [
       "[('C', [(0, 1), (5, 7), (9, 12), (14, 0)]),\n",
       " ('w', [(0, 17), (7, 21), (12, 24), (13, 26)]),\n",
       " ('M', [(0, 41), (1, 43), (21, 40), (46, 12)]),\n",
       " ('E', [(0, 43), (5, 41), (7, 48), (16, 44)]),\n",
       " ('G', [(1, 15), (8, 21), (9, 24)]),\n",
       " ('V', [(1, 24), (2, 21), (7, 25), (30, 18)]),\n",
       " ('Q', [(1, 38), (2, 35), (10, 22), (19, 33)]),\n",
       " ('u', [(2, 0), (39, 24), (43, 39), (46, 37)]),\n",
       " ('k', [(2, 9), (3, 21), (8, 8), (37, 32)]),\n",
       " ('y', [(2, 23), (4, 14), (5, 27), (7, 22)])]"
      ]
     },
     "execution_count": 54,
     "metadata": {},
     "output_type": "execute_result"
    }
   ],
   "source": [
    "import collections\n",
    "antennas = collections.defaultdict(list)\n",
    "for k, v in antennas_locations:\n",
    "    antennas[k].append(v)\n",
    "[x for x in antennas.items()][:10]"
   ]
  },
  {
   "cell_type": "code",
   "execution_count": 55,
   "metadata": {},
   "outputs": [
    {
     "data": {
      "text/plain": [
       "[((4, 38), (8, 37)),\n",
       " ((4, 38), (9, 31)),\n",
       " ((4, 38), (17, 42)),\n",
       " ((8, 37), (9, 31)),\n",
       " ((8, 37), (17, 42)),\n",
       " ((9, 31), (17, 42))]"
      ]
     },
     "execution_count": 55,
     "metadata": {},
     "output_type": "execute_result"
    }
   ],
   "source": [
    "sample = antennas['o']\n",
    "sample_combos = [x for x in itertools.combinations(sample, 2)]\n",
    "sample_combos"
   ]
  },
  {
   "cell_type": "code",
   "execution_count": 56,
   "metadata": {},
   "outputs": [
    {
     "name": "stdout",
     "output_type": "stream",
     "text": [
      "((4, 38), (8, 37))\n"
     ]
    }
   ],
   "source": [
    "sample_combo = sample_combos[0]\n",
    "print(sample_combo)"
   ]
  },
  {
   "cell_type": "markdown",
   "metadata": {},
   "source": [
    "```\n",
    "..o..\n",
    ".....\n",
    ".o...\n",
    "\n",
    ".    .    (0,2).    .     <- a\n",
    ".    .    .    .    .    \n",
    ".    (2,1).    .    .     <- b\n",
    "\n",
    "a-b = -2, 1 = d\n",
    "\n",
    "a + d  = -2, 3\n",
    "a - 2d =  4, 0\n",
    "```"
   ]
  },
  {
   "cell_type": "code",
   "execution_count": 84,
   "metadata": {},
   "outputs": [
    {
     "name": "stdout",
     "output_type": "stream",
     "text": [
      "sample_combo=((4, 38), (8, 37)) pair2antis(sample_combo)=((0, 39), (12, 36))\n"
     ]
    }
   ],
   "source": [
    "from typing import Tuple\n",
    "def pair2antis(locs: Tuple[Tuple[int, int], Tuple[int, int]]) -> Tuple[Tuple[int, int], Tuple[int, int]]:\n",
    "    a, b = locs\n",
    "    diff_r, diff_c = a[0] - b[0], a[1] - b[1]\n",
    "    \n",
    "    return ((a[0] + diff_r, a[1] + diff_c), (a[0] - (2*diff_r), a[1] - (2*diff_c)))\n",
    "\n",
    "print(f\"{sample_combo=} {pair2antis(sample_combo)=}\")"
   ]
  },
  {
   "cell_type": "code",
   "execution_count": 85,
   "metadata": {},
   "outputs": [],
   "source": [
    "# given \n",
    "import itertools\n",
    "antinodes = set(itertools.chain.from_iterable((itertools.chain.from_iterable(map(pair2antis, itertools.combinations(v, 2)))) for v in antennas.values()))\n",
    "# [[[x, y] for x, y in  itertools.combinations(v, 2)] for v in antennas.values()]"
   ]
  },
  {
   "cell_type": "code",
   "execution_count": 86,
   "metadata": {},
   "outputs": [
    {
     "data": {
      "text/plain": [
       "371"
      ]
     },
     "execution_count": 86,
     "metadata": {},
     "output_type": "execute_result"
    }
   ],
   "source": [
    "valid = lambda rc: rc[0] >= 0 and rc[1] >= 0 and rc[0] < nrow and rc[1] < ncol\n",
    "len(list(filter(valid, antinodes)))"
   ]
  },
  {
   "cell_type": "markdown",
   "metadata": {},
   "source": [
    "# part 2"
   ]
  },
  {
   "cell_type": "code",
   "execution_count": 92,
   "metadata": {},
   "outputs": [],
   "source": [
    "# brute force just gonna make the number of combos be the larger of the row or column number\n",
    "def pair2antis2(locs: Tuple[Tuple[int, int], Tuple[int, int]]) -> list:\n",
    "    a, b = locs\n",
    "    diff_r, diff_c = a[0] - b[0], a[1] - b[1]\n",
    "    \n",
    "    maxn = max(nrow, ncol)\n",
    "    return [(a[0]+(n*diff_r), a[1]+(n*diff_c)) for n in range(-maxn, maxn)]"
   ]
  },
  {
   "cell_type": "code",
   "execution_count": 93,
   "metadata": {},
   "outputs": [
    {
     "data": {
      "text/plain": [
       "1229"
      ]
     },
     "execution_count": 93,
     "metadata": {},
     "output_type": "execute_result"
    }
   ],
   "source": [
    "antinodes2 = set(itertools.chain.from_iterable((itertools.chain.from_iterable(map(pair2antis2, itertools.combinations(v, 2)))) for v in antennas.values()))\n",
    "len(list(filter(valid, antinodes2)))"
   ]
  },
  {
   "cell_type": "code",
   "execution_count": null,
   "metadata": {},
   "outputs": [],
   "source": []
  }
 ],
 "metadata": {
  "kernelspec": {
   "display_name": "Python 3",
   "language": "python",
   "name": "python3"
  },
  "language_info": {
   "codemirror_mode": {
    "name": "ipython",
    "version": 3
   },
   "file_extension": ".py",
   "mimetype": "text/x-python",
   "name": "python",
   "nbconvert_exporter": "python",
   "pygments_lexer": "ipython3",
   "version": "3.12.2"
  }
 },
 "nbformat": 4,
 "nbformat_minor": 2
}
