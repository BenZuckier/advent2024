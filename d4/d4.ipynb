{
 "cells": [
  {
   "cell_type": "code",
   "execution_count": 5,
   "metadata": {},
   "outputs": [
    {
     "name": "stdout",
     "output_type": "stream",
     "text": [
      "XXAMXSSMSS ...\n",
      "SSMMXMAAAX ...\n",
      "XAAMMSMMMS ...\n",
      "...\n"
     ]
    }
   ],
   "source": [
    "with open(\"d4_input.txt\", \"r\", encoding=\"utf8\") as f:\n",
    "    text = f.readlines()\n",
    "print(text[0][:10], \"...\")\n",
    "print(text[1][:10], \"...\")\n",
    "print(text[2][:10], \"...\")\n",
    "print(\"...\")"
   ]
  },
  {
   "cell_type": "code",
   "execution_count": 24,
   "metadata": {},
   "outputs": [
    {
     "data": {
      "text/plain": [
       "[(0, 0),\n",
       " (0, 1),\n",
       " (0, 4),\n",
       " (0, 10),\n",
       " (0, 13),\n",
       " (0, 16),\n",
       " (0, 17),\n",
       " (0, 23),\n",
       " (0, 24),\n",
       " (0, 25)]"
      ]
     },
     "metadata": {},
     "output_type": "display_data"
    }
   ],
   "source": [
    "import itertools\n",
    "exes = list(itertools.chain.from_iterable([[(row, i) for i, e in enumerate(row_text) if e == \"X\"] for row, row_text in enumerate(text)]))\n",
    "\n",
    "display(exes[:10])"
   ]
  },
  {
   "cell_type": "code",
   "execution_count": 41,
   "metadata": {},
   "outputs": [],
   "source": [
    "get_neighbors_raw = lambda r, c: [(r+1, c, 0), (r-1, c, 1), (r, c+1, 2), (r, c-1, 3), (r+1, c+1, 4), (r-1, c-1, 5), (r+1, c-1, 6), (r-1, c+1, 7)]\n",
    "get_neighbors = lambda r, c: filter(lambda x: x[0] >= 0 and x[1] >= 0 and x[0] < len(text) and x[1] < len(text[0]), get_neighbors_raw(r,c))"
   ]
  },
  {
   "cell_type": "code",
   "execution_count": 44,
   "metadata": {},
   "outputs": [],
   "source": [
    "dir_fn = {\n",
    "    0: lambda r,c: (r+1, c), \n",
    "    1: lambda r,c: (r-1, c), \n",
    "    2: lambda r,c: (r, c+1), \n",
    "    3: lambda r,c: (r, c-1), \n",
    "    4: lambda r,c: (r+1, c+1), \n",
    "    5: lambda r,c: (r-1, c-1), \n",
    "    6: lambda r,c: (r+1, c-1), \n",
    "    7: lambda r,c: (r-1, c+1),\n",
    "}"
   ]
  },
  {
   "cell_type": "code",
   "execution_count": 45,
   "metadata": {},
   "outputs": [
    {
     "name": "stdout",
     "output_type": "stream",
     "text": [
      "xmas=2662\n"
     ]
    }
   ],
   "source": [
    "import collections\n",
    "\n",
    "nexts = {1: \"M\", 2: \"A\", 3: \"S\"} # the next letter needed for a given upto\n",
    "starts = [[x, 1, -1] for x in exes] # (current r,c), upto what letter, if we started in a direction\n",
    "# display(starts)\n",
    "tracker = {}\n",
    "\n",
    "q = collections.deque(starts) \n",
    "xmas = 0\n",
    "while q:\n",
    "    (r, c), upto, direction = q.popleft()\n",
    "    if upto == 4:\n",
    "        xmas += 1\n",
    "        continue\n",
    "    # print(r, c, upto)\n",
    "    # print(list(get_neighbors(r,c)))\n",
    "    if direction == -1: # haven't started in a direction yet\n",
    "        for nr, nc, ndir in get_neighbors(r, c):\n",
    "            if text[nr][nc] == nexts[upto]:\n",
    "                q.append([(nr, nc), upto+1, ndir])\n",
    "    else:\n",
    "        nr, nc = dir_fn[direction](r, c)\n",
    "        if nr >= 0 and nc >= 0 and nr < len(text) and nc < len(text[0]) and text[nr][nc] == nexts[upto]:\n",
    "            q.append([(nr, nc), upto+1, direction])\n",
    "\n",
    "print(f\"{xmas=}\")\n",
    "    \n"
   ]
  },
  {
   "cell_type": "markdown",
   "metadata": {},
   "source": [
    "super sloppy because i don't think a queue was the right tool, should just have done a window search or smth\n",
    "this is confirmed by part 2"
   ]
  },
  {
   "cell_type": "markdown",
   "metadata": {},
   "source": [
    "## part 2"
   ]
  },
  {
   "cell_type": "code",
   "execution_count": 50,
   "metadata": {},
   "outputs": [],
   "source": [
    "window_raw = lambda r, c: [(r,c), (r, c+2), (r+1, c+1), (r+2, c), (r+2, c+2)]\n",
    "window = lambda xx: filter(lambda x: x[0] >= 0 and x[1] >= 0 and x[0] < len(text) and x[1] < len(text[0]), window_raw(xx[0], xx[1]))\n"
   ]
  },
  {
   "cell_type": "markdown",
   "metadata": {},
   "source": [
    "```\n",
    "M S\n",
    " A \n",
    "M S\n",
    "\n",
    "S S\n",
    " A \n",
    "M M\n",
    "\n",
    "S M\n",
    " A \n",
    "S M\n",
    "\n",
    "M M\n",
    " A \n",
    "S S\n",
    "```"
   ]
  },
  {
   "cell_type": "code",
   "execution_count": 72,
   "metadata": {},
   "outputs": [],
   "source": [
    "is_xmas = lambda s: s == \"MSAMS\" or s == \"SSAMM\" or s == \"SMASM\" or s == \"MMASS\""
   ]
  },
  {
   "cell_type": "code",
   "execution_count": null,
   "metadata": {},
   "outputs": [
    {
     "data": {
      "text/plain": [
       "2034"
      ]
     },
     "execution_count": 73,
     "metadata": {},
     "output_type": "execute_result"
    }
   ],
   "source": [
    "get = lambda rc: text[rc[0]][rc[1]]\n",
    "\n",
    "import itertools\n",
    "rcs = itertools.product(range(len(text)), range(len(text[0])))\n",
    "windows = map(window, rcs)\n",
    "sum(is_xmas(\"\".join(map(get, x))) for x in windows)\n",
    "\n"
   ]
  }
 ],
 "metadata": {
  "kernelspec": {
   "display_name": "Python 3",
   "language": "python",
   "name": "python3"
  },
  "language_info": {
   "codemirror_mode": {
    "name": "ipython",
    "version": 3
   },
   "file_extension": ".py",
   "mimetype": "text/x-python",
   "name": "python",
   "nbconvert_exporter": "python",
   "pygments_lexer": "ipython3",
   "version": "3.12.2"
  }
 },
 "nbformat": 4,
 "nbformat_minor": 2
}
