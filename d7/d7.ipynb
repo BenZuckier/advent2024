{
 "cells": [
  {
   "cell_type": "code",
   "execution_count": 2,
   "metadata": {},
   "outputs": [
    {
     "data": {
      "text/plain": [
       "[['31084', '8 67 8 735 38\\n'],\n",
       " ['40541461584', '5 81 9 4 32 43 283 228\\n'],\n",
       " ['6208', '915 6 2 539 148 29\\n'],\n",
       " ['306501986', '6 3 630 45 536 64 6\\n'],\n",
       " ['21276000', '8 5 5 91 6 5 8 6 8 985 2 8\\n'],\n",
       " ['1432991', '3 403 4 821 591 2 236\\n'],\n",
       " ['17115994', '69 321 254 764 3 99\\n'],\n",
       " ['19961295', '5 311 84 6 63\\n'],\n",
       " ['22953531', '22 95 35 2 8\\n'],\n",
       " ['18894343830', '90 5 3 2 65 7 159 2 91 1\\n']]"
      ]
     },
     "execution_count": 2,
     "metadata": {},
     "output_type": "execute_result"
    }
   ],
   "source": [
    "with open(\"d7_input.txt\", \"r\", encoding=\"utf8\") as f:\n",
    "    lines = [x.split(\": \") for x in f.readlines()]\n",
    "lines[:10]"
   ]
  },
  {
   "cell_type": "code",
   "execution_count": 3,
   "metadata": {},
   "outputs": [
    {
     "data": {
      "text/plain": [
       "[('*', '*', '*'),\n",
       " ('*', '*', '+'),\n",
       " ('*', '+', '*'),\n",
       " ('*', '+', '+'),\n",
       " ('+', '*', '*'),\n",
       " ('+', '*', '+'),\n",
       " ('+', '+', '*'),\n",
       " ('+', '+', '+')]"
      ]
     },
     "execution_count": 3,
     "metadata": {},
     "output_type": "execute_result"
    }
   ],
   "source": [
    "import itertools\n",
    "list(itertools.product([\"*\",\"+\"], repeat=len([1,2,3,4])-1))"
   ]
  },
  {
   "cell_type": "code",
   "execution_count": 4,
   "metadata": {},
   "outputs": [],
   "source": [
    "import operator\n",
    "def eval(ops, line, target) -> int:\n",
    "    res = line[0]\n",
    "    if len(line) == 1:\n",
    "        if target == res:\n",
    "            return target\n",
    "        return 0\n",
    "    items = line[1:]\n",
    "    op = {\"*\": operator.mul, \"+\": operator.add}\n",
    "    for idx, e in enumerate(items):\n",
    "        res = op[ops[idx]](res, e)\n",
    "    if res  == target:\n",
    "        return target\n",
    "    return 0\n",
    "\n",
    "\n"
   ]
  },
  {
   "cell_type": "code",
   "execution_count": 5,
   "metadata": {},
   "outputs": [],
   "source": [
    "def eval_line(line, target) -> int:\n",
    "    ops = list(itertools.product([\"*\",\"+\"], repeat=len(line)-1))\n",
    "    # ops_lines = zip(ops, )\n",
    "    if any(map(lambda x: eval(x, line, target),ops)):\n",
    "        return target\n",
    "    return 0\n",
    "    # return any(map(lambda x: eval(x, line, target), ops))\n"
   ]
  },
  {
   "cell_type": "code",
   "execution_count": 6,
   "metadata": {},
   "outputs": [
    {
     "data": {
      "text/plain": [
       "[[31084, [8, 67, 8, 735, 38]],\n",
       " [40541461584, [5, 81, 9, 4, 32, 43, 283, 228]],\n",
       " [6208, [915, 6, 2, 539, 148, 29]]]"
      ]
     },
     "execution_count": 6,
     "metadata": {},
     "output_type": "execute_result"
    }
   ],
   "source": [
    "parsed_lines = [[int(x[0])] + [[int(y) for y in x[1].split()]] for x in lines]\n",
    "parsed_lines[:3]"
   ]
  },
  {
   "cell_type": "code",
   "execution_count": 7,
   "metadata": {},
   "outputs": [
    {
     "data": {
      "text/plain": [
       "6083020304036"
      ]
     },
     "execution_count": 7,
     "metadata": {},
     "output_type": "execute_result"
    }
   ],
   "source": [
    "sum(eval_line(x[1], x[0]) for x in parsed_lines)"
   ]
  },
  {
   "cell_type": "markdown",
   "metadata": {},
   "source": [
    "# part 2"
   ]
  },
  {
   "cell_type": "code",
   "execution_count": 8,
   "metadata": {},
   "outputs": [],
   "source": [
    "import operator\n",
    "def eval(ops, line, target) -> int:\n",
    "    res = line[0]\n",
    "    if len(line) == 1:\n",
    "        if target == res:\n",
    "            return target\n",
    "        return 0\n",
    "    items = line[1:]\n",
    "    op = {\"*\": operator.mul, \"+\": operator.add, \"|\": lambda x, y: int(str(x) + str(y))}\n",
    "    for idx, e in enumerate(items):\n",
    "        res = op[ops[idx]](res, e)\n",
    "    if res  == target:\n",
    "        return target\n",
    "    return 0\n",
    "\n",
    "\n"
   ]
  },
  {
   "cell_type": "code",
   "execution_count": 9,
   "metadata": {},
   "outputs": [],
   "source": [
    "def eval_line(line, target) -> int:\n",
    "    ops = list(itertools.product([\"*\",\"+\",\"|\"], repeat=len(line)-1))\n",
    "    # ops_lines = zip(ops, )\n",
    "    if any(map(lambda x: eval(x, line, target),ops)):\n",
    "        return target\n",
    "    return 0\n",
    "    # return any(map(lambda x: eval(x, line, target), ops))\n"
   ]
  },
  {
   "cell_type": "code",
   "execution_count": 10,
   "metadata": {},
   "outputs": [
    {
     "data": {
      "text/plain": [
       "59002246504791"
      ]
     },
     "execution_count": 10,
     "metadata": {},
     "output_type": "execute_result"
    }
   ],
   "source": [
    "sum(eval_line(x[1], x[0]) for x in parsed_lines)"
   ]
  },
  {
   "cell_type": "code",
   "execution_count": null,
   "metadata": {},
   "outputs": [],
   "source": []
  }
 ],
 "metadata": {
  "kernelspec": {
   "display_name": "Python 3",
   "language": "python",
   "name": "python3"
  },
  "language_info": {
   "codemirror_mode": {
    "name": "ipython",
    "version": 3
   },
   "file_extension": ".py",
   "mimetype": "text/x-python",
   "name": "python",
   "nbconvert_exporter": "python",
   "pygments_lexer": "ipython3",
   "version": "3.12.2"
  }
 },
 "nbformat": 4,
 "nbformat_minor": 2
}
