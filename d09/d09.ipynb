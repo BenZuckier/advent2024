{
 "cells": [
  {
   "cell_type": "code",
   "execution_count": 1,
   "metadata": {},
   "outputs": [
    {
     "data": {
      "text/plain": [
       "[9, 6, 3, 6, 1, 4, 8, 5, 4, 2]"
      ]
     },
     "execution_count": 1,
     "metadata": {},
     "output_type": "execute_result"
    }
   ],
   "source": [
    "with open(\"d9_input.txt\", \"r\", encoding=\"utf8\") as f:\n",
    "    text = [int(x) for x in [x.strip() for x in f.readlines()][0]]\n",
    "text[:10]"
   ]
  },
  {
   "cell_type": "code",
   "execution_count": 2,
   "metadata": {},
   "outputs": [
    {
     "name": "stdout",
     "output_type": "stream",
     "text": [
      "files[:10]=[9, 3, 1, 8, 4, 7, 7, 8, 5, 2]\n",
      "free[:10]=[6, 6, 4, 5, 2, 8, 9, 9, 9, 6]\n"
     ]
    }
   ],
   "source": [
    "files = [x for i, x in enumerate(text) if i%2==0]\n",
    "free = [x for i, x in enumerate(text) if i%2==1]\n",
    "print(f\"{files[:10]=}\\n{free[:10]=}\")"
   ]
  },
  {
   "cell_type": "code",
   "execution_count": 3,
   "metadata": {},
   "outputs": [
    {
     "name": "stdout",
     "output_type": "stream",
     "text": [
      "indexes[:5]=[[0, 0, 0, 0, 0, 0, 0, 0, 0], [1, 1, 1], [2], [3, 3, 3, 3, 3, 3, 3, 3], [4, 4, 4, 4]]\n",
      "flat_indexes[:10]=[0, 0, 0, 0, 0, 0, 0, 0, 0, 1]\n"
     ]
    }
   ],
   "source": [
    "# no more than the range of the sum of the numbers\n",
    "# \n",
    "# take from the enumerate and reverse enumerate dictated by the files and free\n",
    "import itertools\n",
    "\n",
    "indexes = [[i]*x for i,x in enumerate(files)]\n",
    "flat_indexes = list(itertools.chain.from_iterable(indexes))\n",
    "print(f\"{indexes[:5]=}\\n{flat_indexes[:10]=}\")"
   ]
  },
  {
   "cell_type": "code",
   "execution_count": 4,
   "metadata": {},
   "outputs": [
    {
     "data": {
      "text/plain": [
       "[[0], [0, 1], [0, 1, 2], [0, 1, 2, 3], [0, 1, 2, 3, 4], [0, 1, 2, 3, 4, 5]]"
      ]
     },
     "execution_count": 4,
     "metadata": {},
     "output_type": "execute_result"
    }
   ],
   "source": [
    "# take the next n from iterable \n",
    "[list(itertools.islice(range(100), x)) for x in [1,2,3,4,5,6]]"
   ]
  },
  {
   "cell_type": "code",
   "execution_count": 5,
   "metadata": {},
   "outputs": [
    {
     "data": {
      "text/plain": [
       "[[9999, 9999, 9999, 9999, 9999, 9999],\n",
       " [9999, 9998, 9998, 9998, 9997, 9997],\n",
       " [9997, 9997, 9997, 9996],\n",
       " [9996, 9996, 9996, 9995, 9995],\n",
       " [9995, 9995],\n",
       " [9995, 9995, 9995, 9995, 9995, 9994, 9994, 9994],\n",
       " [9994, 9994, 9994, 9994, 9994, 9993, 9993, 9993, 9993],\n",
       " [9993, 9993, 9992, 9992, 9991, 9991, 9991, 9991, 9991],\n",
       " [9991, 9991, 9991, 9990, 9990, 9990, 9990, 9990, 9990],\n",
       " [9989, 9989, 9989, 9989, 9989, 9989]]"
      ]
     },
     "execution_count": 5,
     "metadata": {},
     "output_type": "execute_result"
    }
   ],
   "source": [
    "reversed_flats = iter(reversed(flat_indexes))\n",
    "free_from_back = [list(itertools.islice(reversed_flats, n)) for n in free]\n",
    "free_from_back[:10]"
   ]
  },
  {
   "cell_type": "code",
   "execution_count": 6,
   "metadata": {},
   "outputs": [
    {
     "data": {
      "text/plain": [
       "[0,\n",
       " 0,\n",
       " 0,\n",
       " 0,\n",
       " 0,\n",
       " 0,\n",
       " 0,\n",
       " 0,\n",
       " 0,\n",
       " 9999,\n",
       " 9999,\n",
       " 9999,\n",
       " 9999,\n",
       " 9999,\n",
       " 9999,\n",
       " 1,\n",
       " 1,\n",
       " 1,\n",
       " 9999,\n",
       " 9998]"
      ]
     },
     "execution_count": 6,
     "metadata": {},
     "output_type": "execute_result"
    }
   ],
   "source": [
    "blocks = list(itertools.chain.from_iterable(itertools.chain.from_iterable(zip(indexes, free_from_back))))\n",
    "blocks[:20]"
   ]
  },
  {
   "cell_type": "code",
   "execution_count": 7,
   "metadata": {},
   "outputs": [
    {
     "data": {
      "text/plain": [
       "49908"
      ]
     },
     "execution_count": 7,
     "metadata": {},
     "output_type": "execute_result"
    }
   ],
   "source": [
    "len(list(zip(range(sum(files)), blocks)))"
   ]
  },
  {
   "cell_type": "code",
   "execution_count": 8,
   "metadata": {},
   "outputs": [
    {
     "data": {
      "text/plain": [
       "6360094256423"
      ]
     },
     "execution_count": 8,
     "metadata": {},
     "output_type": "execute_result"
    }
   ],
   "source": [
    "sum(map(lambda x: x[0]*x[1], zip(range(sum(files)), blocks)))"
   ]
  },
  {
   "cell_type": "markdown",
   "metadata": {},
   "source": [
    "# Part 2"
   ]
  },
  {
   "cell_type": "code",
   "execution_count": 9,
   "metadata": {},
   "outputs": [
    {
     "data": {
      "text/plain": [
       "19998"
      ]
     },
     "execution_count": 9,
     "metadata": {},
     "output_type": "execute_result"
    }
   ],
   "source": [
    "free_zeros = [list(itertools.islice(itertools.cycle([0]) , n)) for n in free]\n",
    "len(list(itertools.chain.from_iterable(zip(indexes, free_zeros))))"
   ]
  },
  {
   "cell_type": "code",
   "execution_count": 10,
   "metadata": {},
   "outputs": [
    {
     "data": {
      "text/plain": [
       "[[9998, 9998, 9998, 9992, 9992, 9985],\n",
       " [9997, 9997, 9997, 9997, 9997, 9982],\n",
       " [9996, 9996, 9996, 9996],\n",
       " [9986, 9986, 9986, 9980, 9976],\n",
       " [9978, 9978],\n",
       " [9999, 9999, 9999, 9999, 9999, 9999, 9999, 9959],\n",
       " [9995, 9995, 9995, 9995, 9995, 9995, 9995, 9995, 9995],\n",
       " [9994, 9994, 9994, 9994, 9994, 9994, 9994, 9994, 9953],\n",
       " [9993, 9993, 9993, 9993, 9993, 9993, 9965, 9965, 9965],\n",
       " [9990, 9990, 9990, 9990, 9990, 9990]]"
      ]
     },
     "execution_count": 10,
     "metadata": {},
     "output_type": "execute_result"
    }
   ],
   "source": [
    "import copy\n",
    "\n",
    "frees = copy.deepcopy(free)\n",
    "moved = [list() for _ in frees]\n",
    "stayed = []\n",
    "\n",
    "for i, x in enumerate(reversed(indexes)):\n",
    "    found = False\n",
    "    for idx_free in range(len(frees)):\n",
    "        if len(x) > frees[idx_free]:\n",
    "            continue\n",
    "        if x[0] <= idx_free:\n",
    "            break\n",
    "        frees[idx_free] -= len(x)\n",
    "        moved[idx_free] += x\n",
    "        found = True\n",
    "        break\n",
    "    if not found:\n",
    "        stayed.append(x) # only if not moved\n",
    "    else: \n",
    "        stayed.append([0]*len(x))\n",
    "\n",
    "# frees\n",
    "moved[:10]"
   ]
  },
  {
   "cell_type": "code",
   "execution_count": 11,
   "metadata": {},
   "outputs": [
    {
     "data": {
      "text/plain": [
       "[[0, 0, 0, 0, 0, 0, 0, 0, 0],\n",
       " [1, 1, 1],\n",
       " [2],\n",
       " [3, 3, 3, 3, 3, 3, 3, 3],\n",
       " [4, 4, 4, 4],\n",
       " [5, 5, 5, 5, 5, 5, 5],\n",
       " [6, 6, 6, 6, 6, 6, 6],\n",
       " [7, 7, 7, 7, 7, 7, 7, 7],\n",
       " [8, 8, 8, 8, 8],\n",
       " [9, 9]]"
      ]
     },
     "execution_count": 11,
     "metadata": {},
     "output_type": "execute_result"
    }
   ],
   "source": [
    "list(reversed(stayed))[:10]"
   ]
  },
  {
   "cell_type": "code",
   "execution_count": 12,
   "metadata": {},
   "outputs": [
    {
     "data": {
      "text/plain": [
       "[[0, 0, 0, 0, 0, 0, 0, 0, 0],\n",
       " [9998, 9998, 9998, 9992, 9992, 9985],\n",
       " [1, 1, 1],\n",
       " [9997, 9997, 9997, 9997, 9997, 9982],\n",
       " [2],\n",
       " [9996, 9996, 9996, 9996],\n",
       " [3, 3, 3, 3, 3, 3, 3, 3],\n",
       " [9986, 9986, 9986, 9980, 9976],\n",
       " [4, 4, 4, 4],\n",
       " [9978, 9978]]"
      ]
     },
     "execution_count": 12,
     "metadata": {},
     "output_type": "execute_result"
    }
   ],
   "source": [
    "free_zeros = [list(itertools.islice(itertools.cycle([0]) , n)) for n in free]\n",
    "moved_and_zero = [[aa + bb for aa, bb in itertools.zip_longest(a,b,fillvalue=0)] for a,b in zip(free_zeros, moved)]\n",
    "out = list(itertools.chain.from_iterable(zip(reversed(stayed), moved_and_zero)))\n",
    "out[:10]"
   ]
  },
  {
   "cell_type": "code",
   "execution_count": 13,
   "metadata": {},
   "outputs": [
    {
     "data": {
      "text/plain": [
       "6379677752410"
      ]
     },
     "execution_count": 13,
     "metadata": {},
     "output_type": "execute_result"
    }
   ],
   "source": [
    "flat_out = list(itertools.chain.from_iterable(out))\n",
    "sum(map(lambda x: x[0]*x[1], zip(range(sum(flat_out)), flat_out)))"
   ]
  },
  {
   "cell_type": "code",
   "execution_count": null,
   "metadata": {},
   "outputs": [],
   "source": []
  }
 ],
 "metadata": {
  "kernelspec": {
   "display_name": "Python 3",
   "language": "python",
   "name": "python3"
  },
  "language_info": {
   "codemirror_mode": {
    "name": "ipython",
    "version": 3
   },
   "file_extension": ".py",
   "mimetype": "text/x-python",
   "name": "python",
   "nbconvert_exporter": "python",
   "pygments_lexer": "ipython3",
   "version": "3.12.2"
  }
 },
 "nbformat": 4,
 "nbformat_minor": 2
}
